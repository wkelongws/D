{
 "cells": [
  {
   "cell_type": "code",
   "execution_count": 1,
   "metadata": {
    "collapsed": true
   },
   "outputs": [],
   "source": [
    "import pandas as pd\n",
    "import matplotlib.pyplot as plt\n",
    "import math\n",
    "import cv2\n",
    "import numpy as np\n",
    "import csv\n",
    "from sklearn.utils import shuffle\n",
    "from pylab import *\n",
    "from matplotlib import gridspec\n",
    "cdict = {'red': ((0.0, 1.0, 1.0),\n",
    "                 (0.125, 1.0, 1.0),\n",
    "                 (0.25, 1.0, 1.0),\n",
    "                 (0.5625, 1.0, 1.0),\n",
    "                 (1.0, 0.0, 0.0)),\n",
    "         'green': ((0.0, 0.0, 0.0),\n",
    "                   (0.25, 0.0, 0.0),\n",
    "                   (0.5625, 1.0, 1.0),\n",
    "                   (1.0, 1.0, 1.0)),\n",
    "         'blue': ((0.0, 0.0, 0.0),\n",
    "                  (0.5, 0.0, 0.0),\n",
    "                  (1.0, 0.0, 0.0))}\n",
    "my_cmap = matplotlib.colors.LinearSegmentedColormap('my_colormap',cdict,256)\n",
    "\n",
    "%matplotlib inline\n",
    "\n",
    "#datapath = '/home/microway/Shuo/CarND/CarND-BehaviorCloning-Project/data-given/'\n",
    "data = pd.read_csv('/Users/Shuo/study/Project-predictive_study/Old_experiments/data_2016_1t_dir1.csv',delimiter=',')"
   ]
  },
  {
   "cell_type": "code",
   "execution_count": 2,
   "metadata": {
    "collapsed": true
   },
   "outputs": [],
   "source": [
    "def load_data(data,datafolder='/Users/Shuo/Desktop/Data_2016/'):\n",
    "    X_train = np.zeros((len(data),13,288,10))\n",
    "    y_train = np.zeros((len(data),15,288,1))\n",
    "    for i in range(len(data)):\n",
    "        with open(datafolder+'CSVs/'+data['X'][i], 'r') as f:\n",
    "            X = list(csv.reader(f, delimiter=\",\"))\n",
    "            X = np.asarray(X)\n",
    "            channels = np.unique(X[:,0])\n",
    "            for channel in channels:\n",
    "                index=X[:,0] == channel\n",
    "                X_train[i,:,:,int(channel)] = X[index,1:]\n",
    "        with open(datafolder+'Traffic_CSVs/'+data['y'][i], 'r') as f:\n",
    "            y = list(csv.reader(f, delimiter=\",\"))\n",
    "            y = np.asarray(y)\n",
    "            index=y[:,0] == '0'\n",
    "            y_train[i,:,:,0] = y[index,1:]\n",
    "    return X_train,y_train"
   ]
  },
  {
   "cell_type": "code",
   "execution_count": 3,
   "metadata": {
    "collapsed": false
   },
   "outputs": [
    {
     "name": "stdout",
     "output_type": "stream",
     "text": [
      "(346, 13, 288, 10)\n",
      "(346, 15, 288, 1)\n"
     ]
    }
   ],
   "source": [
    "X_train,y_train = load_data(data)\n",
    "print(X_train.shape)\n",
    "print(y_train.shape)"
   ]
  },
  {
   "cell_type": "code",
   "execution_count": 4,
   "metadata": {
    "collapsed": false
   },
   "outputs": [
    {
     "name": "stdout",
     "output_type": "stream",
     "text": [
      "108\n",
      "0\n"
     ]
    }
   ],
   "source": [
    "print(np.count_nonzero(np.isnan(X_train)))\n",
    "print(np.count_nonzero(np.isnan(y_train)))"
   ]
  },
  {
   "cell_type": "code",
   "execution_count": 5,
   "metadata": {
    "collapsed": true
   },
   "outputs": [],
   "source": [
    "def normalization(X_train):\n",
    "    table = pd.read_csv('/Users/Shuo/study/Project-predictive_study/stats_weather.csv',delimiter=',')\n",
    "    for i in range(X_train.shape[-1]):\n",
    "        mean = table['mean'][i]\n",
    "        std = table['std'][i]\n",
    "        X_train[:,:,:,i] = (X_train[:,:,:,i]-mean)/std\n",
    "        X_train[np.isnan(X_train)] = 0\n",
    "    return X_train\n",
    "    \n",
    "X_train = normalization(X_train)  "
   ]
  },
  {
   "cell_type": "code",
   "execution_count": 6,
   "metadata": {
    "collapsed": false
   },
   "outputs": [
    {
     "name": "stdout",
     "output_type": "stream",
     "text": [
      "0\n",
      "0\n"
     ]
    }
   ],
   "source": [
    "print(np.count_nonzero(np.isnan(X_train)))\n",
    "print(np.count_nonzero(np.isnan(y_train)))"
   ]
  },
  {
   "cell_type": "code",
   "execution_count": 7,
   "metadata": {
    "collapsed": false
   },
   "outputs": [
    {
     "data": {
      "image/png": "[encoded data removed]",
      "text/plain": [
       "<matplotlib.figure.Figure at 0x106d37208>"
      ]
     },
     "metadata": {},
     "output_type": "display_data"
    }
   ],
   "source": [
    "def convert_zero_2_mean(y_train):\n",
    "    y_train[y_train==0] = np.nan\n",
    "    avg = np.nanmean(y_train, axis=0)\n",
    "    arrays = [avg for _ in range(y_train.shape[0])]\n",
    "    AVG = np.stack(arrays, axis=0)\n",
    "    index = np.isnan(y_train)\n",
    "    y_train[index] = AVG[index]\n",
    "    return y_train\n",
    "\n",
    "y_train = convert_zero_2_mean(y_train)\n",
    "    \n",
    "\n",
    "def show_average_speed(y_train):\n",
    "    speed_avg = np.mean(y_train, axis=0)\n",
    "    plt.pcolor(speed_avg[:,:,0],cmap=my_cmap)\n",
    "    colorbar()\n",
    "    return speed_avg[:,:,0]\n",
    "\n",
    "speed_avg = show_average_speed(y_train)\n",
    "\n"
   ]
  },
  {
   "cell_type": "code",
   "execution_count": 8,
   "metadata": {
    "collapsed": false
   },
   "outputs": [
    {
     "name": "stdout",
     "output_type": "stream",
     "text": [
      "0\n",
      "0\n"
     ]
    }
   ],
   "source": [
    "print(np.count_nonzero(np.isnan(X_train)))\n",
    "print(np.count_nonzero(np.isnan(y_train)))"
   ]
  },
  {
   "cell_type": "code",
   "execution_count": 9,
   "metadata": {
    "collapsed": false,
    "scrolled": true
   },
   "outputs": [
    {
     "data": {
      "image/png": "[encoded data removed]",
      "text/plain": [
       "<matplotlib.figure.Figure at 0x11499d4a8>"
      ]
     },
     "metadata": {},
     "output_type": "display_data"
    }
   ],
   "source": [
    "def show_speed_distribution_over_time_and_location(speed_avg):\n",
    "    \n",
    "    speed_over_time = np.mean(speed_avg,axis=0)\n",
    "    speed_over_location = np.mean(speed_avg,axis=1)\n",
    "    \n",
    "    plt.figure(figsize=(12,4))\n",
    "    gs = gridspec.GridSpec(1, 2, width_ratios=[5,6]) \n",
    "    gs.update(left=0,right=1,hspace=0,wspace=0.1)\n",
    "    \n",
    "    ax0 = plt.subplot(gs[0])\n",
    "    plt.plot(speed_over_time)\n",
    "    \n",
    "    ax0.set_xlim([0,287])\n",
    "    ax0.set_ylim([50,80])\n",
    "    xt = np.asarray([24,48,72,96,120,144,168,192,216,240,264,288])-1\n",
    "    ax0.set_xticks(list(xt))\n",
    "    ax0.set_xticklabels(['2am','4am','6am','8am','10am','12pm','2pm','4pm','6pm','8pm','10pm','12am'])\n",
    "    ax0.set_xlabel('time of day')\n",
    "    ax0.set_ylabel('speed')\n",
    "    ax0.set_title('avg speed over time')\n",
    "    ax0.xaxis.grid(True)\n",
    "    \n",
    "    ax1 = plt.subplot(gs[1])\n",
    "    plt.plot(speed_over_location)\n",
    "    \n",
    "    ax1.set_xlim([-1,15])\n",
    "    ax1.set_ylim([50,80])\n",
    "    ax1.set_xticks([0,1,2,3,4,5,6,7,8,9,10,11,12,13,14])\n",
    "    ax1.set_xticklabels(['s1','s2','s3','s4','s5','s6','s7','s8','s9','s10','s11','s12','s13','s14','s15'])\n",
    "    ax1.set_xlabel('sensor')\n",
    "    ax1.set_ylabel('speed')\n",
    "    ax1.set_title('avg speed over location')\n",
    "    ax1.xaxis.grid(True)\n",
    "    \n",
    "show_speed_distribution_over_time_and_location(speed_avg)\n",
    "    \n",
    "    "
   ]
  },
  {
   "cell_type": "code",
   "execution_count": 10,
   "metadata": {
    "collapsed": false
   },
   "outputs": [
    {
     "name": "stdout",
     "output_type": "stream",
     "text": [
      "(346, 13, 288, 35)\n",
      "(346, 15, 288, 1)\n"
     ]
    },
    {
     "data": {
      "text/plain": [
       "346"
      ]
     },
     "execution_count": 10,
     "metadata": {},
     "output_type": "execute_result"
    }
   ],
   "source": [
    "# time segmentation: every 2 hours, 12 binary channels\n",
    "# location segmentatin every sensor, 13 binary channels\n",
    "def set_time_binary(zeros_3D,i):\n",
    "    X = zeros_3D\n",
    "    X[:,:,24*i:24*(i+1)]=1\n",
    "    return X\n",
    "    \n",
    "def set_location_binary(zeros_3D,i):\n",
    "    X = zeros_3D\n",
    "    X[:,i,:]=1\n",
    "    return X\n",
    "\n",
    "def add_spatial_temperal_info(X_train):\n",
    "    \n",
    "    time_channels = [set_time_binary(np.zeros(X_train.shape[:-1]),i) for i in range(12)]\n",
    "    time_channel = np.stack(time_channels, axis=3)\n",
    "    location_channels = [set_location_binary(np.zeros(X_train.shape[:-1]),i) for i in range(13)]\n",
    "    location_channel = np.stack(location_channels, axis=3)\n",
    "    X_train = np.concatenate((X_train,time_channel,location_channel),axis=3)\n",
    "    return X_train\n",
    "\n",
    "X_train = add_spatial_temperal_info(X_train)\n",
    "\n",
    "print(X_train.shape)\n",
    "print(y_train.shape)\n",
    "len(X_train)\n"
   ]
  },
  {
   "cell_type": "code",
   "execution_count": 11,
   "metadata": {
    "collapsed": false
   },
   "outputs": [
    {
     "name": "stdout",
     "output_type": "stream",
     "text": [
      "0\n",
      "0\n"
     ]
    }
   ],
   "source": [
    "print(np.count_nonzero(np.isnan(X_train)))\n",
    "print(np.count_nonzero(np.isnan(y_train)))"
   ]
  },
  {
   "cell_type": "code",
   "execution_count": 63,
   "metadata": {
    "collapsed": false
   },
   "outputs": [
    {
     "name": "stdout",
     "output_type": "stream",
     "text": [
      "276\n",
      "7\n",
      "277\n",
      "535164\n"
     ]
    }
   ],
   "source": [
    "window=(7,12)\n",
    "num_raw = len(X_train)\n",
    "num_loc_stride = X_train.shape[1]-window[0]+1\n",
    "num_time_stride = X_train.shape[2]-window[1]+1    \n",
    "num = num_raw*num_loc_stride*num_time_stride\n",
    "print(num_raw)\n",
    "print(num_loc_stride)\n",
    "print(num_time_stride)\n",
    "print(num)"
   ]
  },
  {
   "cell_type": "code",
   "execution_count": 13,
   "metadata": {
    "collapsed": true
   },
   "outputs": [],
   "source": [
    "# use 5*12 window the size of the training set will be boosted to 6GB! Use genrerator\n",
    "from sklearn.model_selection import train_test_split\n",
    "import sklearn\n",
    "import itertools\n",
    "\n",
    "def patches_generator(X_train,y_train,window=(7,12),batch_size=4096):\n",
    "    \n",
    "    num_raw = len(X_train)\n",
    "    num_loc_stride = X_train.shape[1]-window[0]+1\n",
    "    num_time_stride = X_train.shape[2]-window[1]+1\n",
    "    \n",
    "    num_samples = num_raw*num_loc_stride*num_time_stride\n",
    "    \n",
    "    index_structure = [range(num_raw),range(num_loc_stride),range(num_time_stride)]\n",
    "    index_list = list(itertools.product(*index_structure))\n",
    "    \n",
    "    while 1: # Loop forever so the generator never terminates\n",
    "        shuffle(index_list)\n",
    "        for offset in range(0, num_samples, batch_size):\n",
    "            batch_samples = index_list[offset:offset+batch_size]\n",
    "\n",
    "            X_minibatch = []\n",
    "            y_minibatch = []\n",
    "            \n",
    "            for batch_sample in batch_samples:\n",
    "                \n",
    "                X_patch = X_train[batch_sample[0],batch_sample[1]:batch_sample[1]+window[0],batch_sample[2]:batch_sample[2]+window[1],:]\n",
    "                y_patch = y_train[batch_sample[0],batch_sample[1]:batch_sample[1]+window[0]+2,batch_sample[2]:batch_sample[2]+window[1],:]\n",
    "                \n",
    "                X_minibatch.append(X_patch)\n",
    "                y_minibatch.append(y_patch)\n",
    "\n",
    "            X_minibatch = np.asarray(X_minibatch)\n",
    "            y_minibatch = np.asarray(y_minibatch)\n",
    "            yield sklearn.utils.shuffle(X_minibatch, y_minibatch)"
   ]
  },
  {
   "cell_type": "code",
   "execution_count": 14,
   "metadata": {
    "collapsed": false
   },
   "outputs": [],
   "source": [
    "from sklearn.model_selection import train_test_split\n",
    "split = 0.2\n",
    "X_train, X_validation, y_train, y_validation = train_test_split(X_train, y_train, test_size=split, random_state=0)\n",
    "\n",
    "train_generator = patches_generator(X_train,y_train)\n",
    "validation_generator = patches_generator(X_validation,y_validation)"
   ]
  },
  {
   "cell_type": "code",
   "execution_count": 15,
   "metadata": {
    "collapsed": false
   },
   "outputs": [
    {
     "name": "stderr",
     "output_type": "stream",
     "text": [
      "Using TensorFlow backend.\n"
     ]
    },
    {
     "name": "stdout",
     "output_type": "stream",
     "text": [
      "Epoch 1/20\n",
      "535164/536715 [============================>.] - ETA: 0s - loss: 945.2118"
     ]
    },
    {
     "name": "stderr",
     "output_type": "stream",
     "text": [
      "/Users/Shuo/anaconda2/envs/CarND/lib/python3.5/site-packages/keras/engine/training.py:1569: UserWarning: Epoch comprised more than `samples_per_epoch` samples, which might affect learning results. Set `samples_per_epoch` correctly to avoid this warning.\n",
      "  warnings.warn('Epoch comprised more than '\n"
     ]
    },
    {
     "name": "stdout",
     "output_type": "stream",
     "text": [
      "539260/536715 [==============================] - 103s - loss: 938.5763 - val_loss: 70.1293\n",
      "Epoch 2/20\n",
      "539260/536715 [==============================] - 104s - loss: 58.8181 - val_loss: 52.7878\n",
      "Epoch 3/20\n",
      "539260/536715 [==============================] - 101s - loss: 53.9598 - val_loss: 52.2119\n",
      "Epoch 4/20\n",
      "539260/536715 [==============================] - 101s - loss: 53.4499 - val_loss: 52.0060\n",
      "Epoch 5/20\n",
      "539260/536715 [==============================] - 101s - loss: 53.1571 - val_loss: 52.0259\n",
      "Epoch 6/20\n",
      "539260/536715 [==============================] - 107s - loss: 52.7722 - val_loss: 51.5532\n",
      "Epoch 7/20\n",
      "539260/536715 [==============================] - 111s - loss: 51.8848 - val_loss: 49.1998\n",
      "Epoch 8/20\n",
      "539260/536715 [==============================] - 111s - loss: 45.0764 - val_loss: 37.2992\n",
      "Epoch 9/20\n",
      "539260/536715 [==============================] - 111s - loss: 32.3007 - val_loss: 27.2806\n",
      "Epoch 10/20\n",
      "539260/536715 [==============================] - 113s - loss: 24.9210 - val_loss: 22.9900\n",
      "Epoch 11/20\n",
      "539260/536715 [==============================] - 115s - loss: 21.9035 - val_loss: 20.9910\n",
      "Epoch 12/20\n",
      "539260/536715 [==============================] - 112s - loss: 19.8629 - val_loss: 19.1992\n",
      "Epoch 13/20\n",
      "539260/536715 [==============================] - 111s - loss: 18.9084 - val_loss: 18.5430\n",
      "Epoch 14/20\n",
      "539260/536715 [==============================] - 111s - loss: 18.4028 - val_loss: 18.5168\n",
      "Epoch 15/20\n",
      "539260/536715 [==============================] - 111s - loss: 18.1613 - val_loss: 18.8731\n",
      "Epoch 16/20\n",
      "539260/536715 [==============================] - 111s - loss: 17.9846 - val_loss: 18.7599\n",
      "Epoch 17/20\n",
      "539260/536715 [==============================] - 105s - loss: 17.8975 - val_loss: 18.2408\n",
      "Epoch 18/20\n",
      "539260/536715 [==============================] - 96s - loss: 17.7628 - val_loss: 18.2422\n",
      "Epoch 19/20\n",
      "539260/536715 [==============================] - 96s - loss: 17.5389 - val_loss: 18.0374\n",
      "Epoch 20/20\n",
      "539260/536715 [==============================] - 103s - loss: 17.5014 - val_loss: 18.3507\n"
     ]
    }
   ],
   "source": [
    "from keras.models import Sequential\n",
    "from keras.layers import Reshape, Dense, Convolution2D, Deconvolution2D, Flatten, Input, Dropout, MaxPooling2D, Activation\n",
    "from keras.models import model_from_json\n",
    "from keras.activations import relu, softmax, linear\n",
    "from keras.layers.advanced_activations import PReLU\n",
    "from keras.optimizers import Adam\n",
    "from keras.layers.normalization import BatchNormalization\n",
    "from keras.layers.advanced_activations import ELU\n",
    "\n",
    "model = Sequential()\n",
    "# 7*12*35\n",
    "model.add(Convolution2D(16, (3,3), strides=(1, 1),data_format=\"channels_last\",padding='valid'))\n",
    "model.add(ELU())\n",
    "# 5*10*16\n",
    "# model.add(Convolution2D(16, (3,3), strides=(1, 1),padding='valid'))\n",
    "model.add(Convolution2D(32, 3, 3,border_mode='valid'))\n",
    "model.add(ELU())\n",
    "# 3*8*32\n",
    "model.add(Flatten())\n",
    "# 768\n",
    "model.add(Dense(100))\n",
    "model.add(ELU())\n",
    "model.add(Dense(1280))\n",
    "model.add(ELU())\n",
    "model.add(Reshape((5,8,32)))\n",
    "model.add(Deconvolution2D(16, 3, 3, output_shape=(None, 7, 10, 16),border_mode='valid'))\n",
    "model.add(ELU())\n",
    "# 7*10*16 \n",
    "model.add(Deconvolution2D(1, 3, 3, output_shape=(None, 9, 12, 1),border_mode='valid'))\n",
    "# model.add(Activation('linear'))\n",
    "\n",
    "model.compile(loss='mse', optimizer='adam')\n",
    "\n",
    "history_object = model.fit_generator(train_generator, samples_per_epoch=int(num*(1-split)), validation_data=validation_generator,nb_val_samples=int(num*split), nb_epoch=20, verbose =1)"
   ]
  },
  {
   "cell_type": "code",
   "execution_count": 16,
   "metadata": {
    "collapsed": false
   },
   "outputs": [
    {
     "name": "stdout",
     "output_type": "stream",
     "text": [
      "dict_keys(['val_loss', 'loss'])\n"
     ]
    },
    {
     "data": {
      "image/png": "[encoded data removed]",
      "text/plain": [
       "<matplotlib.figure.Figure at 0x10668b4e0>"
      ]
     },
     "metadata": {},
     "output_type": "display_data"
    }
   ],
   "source": [
    "print(history_object.history.keys())\n",
    "\n",
    "### plot the training and validation loss for each epoch\n",
    "plt.plot(history_object.history['loss'])\n",
    "plt.plot(history_object.history['val_loss'])\n",
    "plt.title('model mean squared error loss')\n",
    "plt.ylabel('mean squared error loss')\n",
    "plt.xlabel('epoch')\n",
    "plt.legend(['training set', 'validation set'], loc='upper right')\n",
    "plt.show()"
   ]
  },
  {
   "cell_type": "code",
   "execution_count": 17,
   "metadata": {
    "collapsed": true
   },
   "outputs": [],
   "source": [
    "from keras.models import load_model\n",
    "model.save('/Users/Shuo/study/Project-predictive_study/model_patch.h5')"
   ]
  },
  {
   "cell_type": "code",
   "execution_count": 19,
   "metadata": {
    "collapsed": false
   },
   "outputs": [
    {
     "data": {
      "text/plain": [
       "277"
      ]
     },
     "execution_count": 19,
     "metadata": {},
     "output_type": "execute_result"
    }
   ],
   "source": [
    "num_time_stride"
   ]
  },
  {
   "cell_type": "code",
   "execution_count": 101,
   "metadata": {
    "collapsed": false
   },
   "outputs": [
    {
     "name": "stdout",
     "output_type": "stream",
     "text": [
      "20160518Dir1.csv\n"
     ]
    },
    {
     "data": {
      "text/plain": [
       "<matplotlib.colorbar.Colorbar at 0x137911e48>"
      ]
     },
     "execution_count": 101,
     "metadata": {},
     "output_type": "execute_result"
    },
    {
     "data": {
      "image/png": "[encoded data removed]",
      "text/plain": [
       "<matplotlib.figure.Figure at 0x12e0a1cc0>"
      ]
     },
     "metadata": {},
     "output_type": "display_data"
    },
    {
     "data": {
      "image/png": "[encoded data removed]",
      "text/plain": [
       "<matplotlib.figure.Figure at 0x1376e2048>"
      ]
     },
     "metadata": {},
     "output_type": "display_data"
    }
   ],
   "source": [
    "# check patch predictions\n",
    "window=(7,12)\n",
    "num_raw = len(X_train)\n",
    "num_loc_stride = X_train.shape[1]-window[0]+1\n",
    "num_time_stride = X_train.shape[2]-window[1]+1    \n",
    "num = num_raw*num_loc_stride*num_time_stride\n",
    "\n",
    "\n",
    "randnumber1 = np.random.randint(num_raw)\n",
    "randnumber2 = np.random.randint(num_loc_stride)\n",
    "randnumber3 = np.random.randint(num_time_stride)\n",
    "\n",
    "print(data['X'][randnumber1])\n",
    "\n",
    "\n",
    "X_patch = X_train[randnumber1,randnumber2:randnumber2+window[0],randnumber3:randnumber3+window[1],:]\n",
    "y_patch = y_train[randnumber1,randnumber2:randnumber2+window[0]+2,randnumber3:randnumber3+window[1],0]\n",
    "\n",
    "sample_patch = X_patch.reshape((1,)+X_patch.shape)\n",
    "\n",
    "speed_prediction_patch = model.predict(sample_patch)\n",
    "speed_prediction_patch = speed_prediction_patch[0,:,:,0]\n",
    "speed_true_patch = y_patch\n",
    "\n",
    "\n",
    "plt.figure(figsize=(12,4))\n",
    "gs = gridspec.GridSpec(3, 3,hspace=0,wspace=0) \n",
    "for i in range(9):\n",
    "    plt.subplot(gs[i])\n",
    "    plt.pcolor(sample_patch[0,:,:,i],cmap=plt.cm.Blues)\n",
    "plt.figure(figsize=(12,4))\n",
    "gs = gridspec.GridSpec(1, 2, width_ratios=[5,6]) \n",
    "gs.update(left=0,right=1,hspace=0,wspace=0)\n",
    "plt.subplot(gs[0])\n",
    "plt.pcolor(speed_true_patch,cmap=my_cmap)\n",
    "plt.subplot(gs[1])\n",
    "plt.pcolor(speed_prediction_patch,cmap=my_cmap)\n",
    "colorbar()"
   ]
  },
  {
   "cell_type": "code",
   "execution_count": 70,
   "metadata": {
    "collapsed": false
   },
   "outputs": [
    {
     "data": {
      "text/plain": [
       "(13, 288)"
      ]
     },
     "execution_count": 70,
     "metadata": {},
     "output_type": "execute_result"
    }
   ],
   "source": [
    "canvas = np.empty((13,288)) * np.nan\n",
    "canvas.shape"
   ]
  },
  {
   "cell_type": "code",
   "execution_count": 94,
   "metadata": {
    "collapsed": false
   },
   "outputs": [
    {
     "name": "stdout",
     "output_type": "stream",
     "text": [
      "20161004Dir1.csv\n"
     ]
    },
    {
     "data": {
      "text/plain": [
       "<matplotlib.colorbar.Colorbar at 0x13a275e80>"
      ]
     },
     "execution_count": 94,
     "metadata": {},
     "output_type": "execute_result"
    },
    {
     "data": {
      "image/png": "[encoded data removed]",
      "text/plain": [
       "<matplotlib.figure.Figure at 0x13d179e10>"
      ]
     },
     "metadata": {},
     "output_type": "display_data"
    },
    {
     "data": {
      "image/png": "[encoded data removed]",
      "text/plain": [
       "<matplotlib.figure.Figure at 0x1365e7470>"
      ]
     },
     "metadata": {},
     "output_type": "display_data"
    }
   ],
   "source": [
    "# check daily predictions\n",
    "window=(7,12)\n",
    "num_raw = len(X_train)\n",
    "num_loc_stride = X_train.shape[1]-window[0]+1\n",
    "num_time_stride = X_train.shape[2]-window[1]+1    \n",
    "num = num_raw*num_loc_stride*num_time_stride\n",
    "\n",
    "randnumber = np.random.randint(num_raw)\n",
    "# randnumber = 31\n",
    "print(data['X'][randnumber])\n",
    "\n",
    "def stitch_patch_predictions(X_train,randnumber,num_loc_stride,num_time_stride,window):\n",
    "    prediction = []\n",
    "    sample_raw = X_train[randnumber,:,:,:]\n",
    "    \n",
    "    index_structure = [range(num_loc_stride),range(num_time_stride)]\n",
    "    index_list = list(itertools.product(*index_structure))\n",
    "    \n",
    "    for index in index_list:\n",
    "        X_patch = X_train[randnumber,index[0]:index[0]+window[0],index[1]:index[1]+window[1],:]\n",
    "        sample_patch = X_patch.reshape((1,)+X_patch.shape)\n",
    "        speed_prediction_patch = model.predict(sample_patch)\n",
    "        speed_prediction_patch = speed_prediction_patch[0,:,:,0]\n",
    "        canvas = np.empty((15,288)) * np.nan\n",
    "        canvas[index[0]:index[0]+window[0]+2,index[1]:index[1]+window[1]] = speed_prediction_patch\n",
    "        prediction.append(canvas)\n",
    "    \n",
    "    prediction = np.asarray(prediction)\n",
    "    prediction = np.nanmean(prediction,axis=0)\n",
    "    return prediction\n",
    "             \n",
    "sample_raw = X_train[randnumber,:,:,:]\n",
    "speed_prediction = stitch_patch_predictions(X_train,randnumber,num_loc_stride,num_time_stride,window)\n",
    "speed_true = y_train[randnumber,:,:,0]\n",
    "\n",
    "plt.figure(figsize=(12,4))\n",
    "gs = gridspec.GridSpec(3, 3,hspace=0,wspace=0) \n",
    "for i in range(9):\n",
    "    plt.subplot(gs[i])\n",
    "    plt.pcolor(sample_raw[:,:,i+1],cmap=plt.cm.Blues)\n",
    "plt.figure(figsize=(12,4))\n",
    "gs = gridspec.GridSpec(1, 2, width_ratios=[5,6]) \n",
    "gs.update(left=0,right=1,hspace=0,wspace=0)\n",
    "plt.subplot(gs[0])\n",
    "plt.pcolor(speed_true,cmap=my_cmap)\n",
    "plt.subplot(gs[1])\n",
    "plt.pcolor(speed_prediction,cmap=my_cmap)\n",
    "colorbar()\n",
    "\n"
   ]
  },
  {
   "cell_type": "code",
   "execution_count": 53,
   "metadata": {
    "collapsed": false
   },
   "outputs": [
    {
     "data": {
      "text/plain": [
       "(15, 288)"
      ]
     },
     "execution_count": 53,
     "metadata": {},
     "output_type": "execute_result"
    }
   ],
   "source": [
    "prediction.shape"
   ]
  },
  {
   "cell_type": "code",
   "execution_count": null,
   "metadata": {
    "collapsed": true
   },
   "outputs": [],
   "source": [
    "plt.figure(figsize=(12,4))\n",
    "gs = gridspec.GridSpec(3, 3,hspace=0,wspace=0) \n",
    "for i in range(9):\n",
    "    plt.subplot(gs[i])\n",
    "    plt.pcolor(sample_patch[0,:,:,i],cmap=plt.cm.Blues)\n",
    "plt.figure(figsize=(12,4))\n",
    "gs = gridspec.GridSpec(1, 2, width_ratios=[5,6]) \n",
    "gs.update(left=0,right=1,hspace=0,wspace=0)\n",
    "plt.subplot(gs[0])\n",
    "plt.pcolor(speed_true_patch,cmap=my_cmap)\n",
    "plt.subplot(gs[1])\n",
    "plt.pcolor(speed_prediction_patch,cmap=my_cmap)\n",
    "colorbar()"
   ]
  }
 ],
 "metadata": {
  "anaconda-cloud": {},
  "kernelspec": {
   "display_name": "Python [conda env:CarND]",
   "language": "python",
   "name": "conda-env-CarND-py"
  },
  "language_info": {
   "codemirror_mode": {
    "name": "ipython",
    "version": 3
   },
   "file_extension": ".py",
   "mimetype": "text/x-python",
   "name": "python",
   "nbconvert_exporter": "python",
   "pygments_lexer": "ipython3",
   "version": "3.5.2"
  }
 },
 "nbformat": 4,
 "nbformat_minor": 1
}
