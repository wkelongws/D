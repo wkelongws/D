{
 "cells": [
  {
   "cell_type": "code",
   "execution_count": 1,
   "metadata": {
    "collapsed": true
   },
   "outputs": [],
   "source": [
    "import pandas as pd\n",
    "import matplotlib.pyplot as plt\n",
    "import math\n",
    "import cv2\n",
    "import numpy as np\n",
    "import csv\n",
    "from sklearn.utils import shuffle\n",
    "from pylab import *\n",
    "from matplotlib import gridspec\n",
    "cdict = {'red': ((0.0, 1.0, 1.0),\n",
    "                 (0.125, 1.0, 1.0),\n",
    "                 (0.25, 1.0, 1.0),\n",
    "                 (0.5625, 1.0, 1.0),\n",
    "                 (1.0, 0.0, 0.0)),\n",
    "         'green': ((0.0, 0.0, 0.0),\n",
    "                   (0.25, 0.0, 0.0),\n",
    "                   (0.5625, 1.0, 1.0),\n",
    "                   (1.0, 1.0, 1.0)),\n",
    "         'blue': ((0.0, 0.0, 0.0),\n",
    "                  (0.5, 0.0, 0.0),\n",
    "                  (1.0, 0.0, 0.0))}\n",
    "my_cmap = matplotlib.colors.LinearSegmentedColormap('my_colormap',cdict,256)\n",
    "\n",
    "%matplotlib inline\n",
    "\n",
    "#datapath = '/home/microway/Shuo/CarND/CarND-BehaviorCloning-Project/data-given/'\n",
    "data = pd.read_csv('/Users/Shuo/study/Project-predictive_study/Old_experiments/data_2016_1t_dir1.csv',delimiter=',')"
   ]
  },
  {
   "cell_type": "code",
   "execution_count": 3,
   "metadata": {
    "collapsed": true
   },
   "outputs": [],
   "source": [
    "#datapath = '/home/microway/Shuo/CarND/CarND-BehaviorCloning-Project/data-given/'\n",
    "data = pd.read_csv('/Users/Shuo/study/Project-predictive_study/Old_experiments/data_2016_I235E.csv',delimiter=',')"
   ]
  },
  {
   "cell_type": "code",
   "execution_count": 11,
   "metadata": {
    "collapsed": true
   },
   "outputs": [],
   "source": [
    "def load_data(data,datafolder='/Users/Shuo/study/Project-predictive_study/Old_experiments/Data_2016_DES_I235E/'):\n",
    "    X_train = np.zeros((len(data),15,288,10))\n",
    "    y_train = np.zeros((len(data),15,1440,1))\n",
    "    for i in range(len(data)):\n",
    "        with open(datafolder+'CSVs/'+data['X'][i], 'r') as f:\n",
    "            X = list(csv.reader(f, delimiter=\",\"))\n",
    "            X = np.asarray(X)\n",
    "            channels = np.unique(X[:,0])\n",
    "            for channel in channels:\n",
    "                index=X[:,0] == channel\n",
    "                X_train[i,:,:,int(channel)] = X[index,1:]\n",
    "        with open(datafolder+'Traffic_CSVs/'+data['y'][i], 'r') as f:\n",
    "            y = list(csv.reader(f, delimiter=\",\"))\n",
    "            y = np.asarray(y)\n",
    "            index=y[:,0] == '0'\n",
    "            y_train[i,:,:,0] = y[index,1:]\n",
    "    return X_train,y_train"
   ]
  },
  {
   "cell_type": "code",
   "execution_count": 12,
   "metadata": {
    "collapsed": false
   },
   "outputs": [
    {
     "name": "stdout",
     "output_type": "stream",
     "text": [
      "(346, 15, 288, 10)\n",
      "(346, 15, 1440, 1)\n"
     ]
    }
   ],
   "source": [
    "X_train,y_train = load_data(data)\n",
    "print(X_train.shape)\n",
    "print(y_train.shape)"
   ]
  },
  {
   "cell_type": "code",
   "execution_count": null,
   "metadata": {
    "collapsed": true
   },
   "outputs": [],
   "source": []
  }
 ],
 "metadata": {
  "anaconda-cloud": {},
  "kernelspec": {
   "display_name": "Python [conda env:CarND]",
   "language": "python",
   "name": "conda-env-CarND-py"
  },
  "language_info": {
   "codemirror_mode": {
    "name": "ipython",
    "version": 3
   },
   "file_extension": ".py",
   "mimetype": "text/x-python",
   "name": "python",
   "nbconvert_exporter": "python",
   "pygments_lexer": "ipython3",
   "version": "3.5.2"
  }
 },
 "nbformat": 4,
 "nbformat_minor": 1
}
