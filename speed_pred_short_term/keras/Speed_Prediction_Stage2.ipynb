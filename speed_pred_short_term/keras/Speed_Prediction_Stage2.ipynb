{
 "cells": [
  {
   "cell_type": "code",
   "execution_count": 1,
   "metadata": {
    "collapsed": true
   },
   "outputs": [],
   "source": [
    "%load_ext autoreload"
   ]
  },
  {
   "cell_type": "code",
   "execution_count": 2,
   "metadata": {},
   "outputs": [
    {
     "name": "stderr",
     "output_type": "stream",
     "text": [
      "Using TensorFlow backend.\n"
     ]
    }
   ],
   "source": [
    "# import external libraries\n",
    "# and self-defined color map\n",
    "\n",
    "import numpy\n",
    "import matplotlib.pyplot as plt\n",
    "from pandas import read_csv\n",
    "import math\n",
    "import keras\n",
    "from keras.models import Sequential, Model, model_from_json\n",
    "from keras.layers import concatenate, merge, Dense, LSTM, Input, Reshape, Convolution2D, Deconvolution2D, Flatten, Dropout, MaxPooling2D, Activation\n",
    "from keras.activations import relu, softmax, linear\n",
    "from keras.layers.advanced_activations import PReLU, ELU\n",
    "from keras.optimizers import Adam\n",
    "from keras.layers.normalization import BatchNormalization\n",
    "\n",
    "from sklearn.preprocessing import MinMaxScaler\n",
    "from sklearn.metrics import mean_squared_error\n",
    "import pandas as pd\n",
    "import matplotlib.pyplot as plt\n",
    "import math\n",
    "# import cv2\n",
    "import numpy as np\n",
    "import csv\n",
    "from sklearn.utils import shuffle\n",
    "from pylab import *\n",
    "from matplotlib import gridspec\n",
    "cdict = {'red': ((0.0, 1.0, 1.0),\n",
    "                 (0.125, 1.0, 1.0),\n",
    "                 (0.25, 1.0, 1.0),\n",
    "                 (0.5625, 1.0, 1.0),\n",
    "                 (1.0, 0.0, 0.0)),\n",
    "         'green': ((0.0, 0.0, 0.0),\n",
    "                   (0.25, 0.0, 0.0),\n",
    "                   (0.5625, 1.0, 1.0),\n",
    "                   (1.0, 1.0, 1.0)),\n",
    "         'blue': ((0.0, 0.0, 0.0),\n",
    "                  (0.5, 0.0, 0.0),\n",
    "                  (1.0, 0.0, 0.0))}\n",
    "my_cmap = matplotlib.colors.LinearSegmentedColormap('my_colormap',cdict,256)\n",
    "\n",
    "%matplotlib inline\n",
    "%autoreload 2\n",
    "#datapath = '/home/microway/Shuo/CarND/CarND-BehaviorCloning-Project/data-given/'\n"
   ]
  },
  {
   "cell_type": "code",
   "execution_count": 3,
   "metadata": {
    "collapsed": true
   },
   "outputs": [],
   "source": [
    "from lib.Function_Smoothing import moving_avg_batch,data_smoothing_moving_avg"
   ]
  },
  {
   "cell_type": "code",
   "execution_count": 4,
   "metadata": {},
   "outputs": [
    {
     "name": "stdout",
     "output_type": "stream",
     "text": [
      "(346, 1440, 15, 3)\n",
      "(346, 1440, 15)\n"
     ]
    }
   ],
   "source": [
    "import pickle\n",
    "(Traffic,Speed,data) = pickle.load( open('speed_short_term.p', \"rb\" ) )\n",
    "Count = Traffic[:,:,:,1]\n",
    "Occup = Traffic[:,:,:,2]\n",
    "print(Traffic.shape)\n",
    "print(Speed.shape)\n",
    "\n",
    "Traffic = data_smoothing_moving_avg(Traffic,5)\n",
    "Speed = data_smoothing_moving_avg(Speed,5)\n",
    "\n",
    "data_test = data.loc[[316,319,330],]\n",
    "data_train = data.loc[list(range(316))+list(range(317,319))+list(range(320,330))+list(range(331,len(data))),]\n",
    "\n",
    "# data.tail(30)"
   ]
  },
  {
   "cell_type": "code",
   "execution_count": 16,
   "metadata": {
    "collapsed": true
   },
   "outputs": [],
   "source": [
    "from lib.Function_DOW_Normalizer import get_certain_dayofweek,MinMax_Normalization,transfer_scale,visualize_smooth,visualize_avg\n",
    "from lib.Function_CreateInput import shapeback,create_dataset,create_dataset_historyAsFeature,create_dataset_historyAsSecondInput\n",
    "from lib.Function_VisualizeResult import history_plot,history_plot_historyAsFeature,history_plot_historyAsSecondInput"
   ]
  },
  {
   "cell_type": "code",
   "execution_count": 10,
   "metadata": {
    "collapsed": true
   },
   "outputs": [],
   "source": [
    "epochs = 1000"
   ]
  },
  {
   "cell_type": "code",
   "execution_count": 18,
   "metadata": {},
   "outputs": [],
   "source": [
    "# visualize_smooth(Speed)"
   ]
  },
  {
   "cell_type": "code",
   "execution_count": 19,
   "metadata": {},
   "outputs": [],
   "source": [
    "# visualize_avg(data,Speed)"
   ]
  },
  {
   "cell_type": "code",
   "execution_count": 20,
   "metadata": {
    "collapsed": true
   },
   "outputs": [],
   "source": [
    "from lib.TestCases import test_case_1,test_case_2,test_case_3"
   ]
  },
  {
   "cell_type": "code",
   "execution_count": 24,
   "metadata": {},
   "outputs": [],
   "source": [
    "# fig1 = test_case_1(data,Speed)\n",
    "# fig2 = test_case_2(data,Speed)\n",
    "# fig3 = test_case_3(data,Speed)\n",
    "\n",
    "# # fig1.savefig('images/test_case_1.png', bbox_inches='tight')\n",
    "# # fig2.savefig('images/test_case_2.png', bbox_inches='tight')\n",
    "# # fig3.savefig('images/test_case_3.png', bbox_inches='tight')"
   ]
  },
  {
   "cell_type": "code",
   "execution_count": 5,
   "metadata": {},
   "outputs": [
    {
     "name": "stdout",
     "output_type": "stream",
     "text": [
      "train_speed.shape =  (47, 1440, 15)\n",
      "test_speed.shape =  (1, 1440, 15)\n",
      "look_back =  15\n",
      "mode =  uni\n",
      "train_speed_x.shape =  (47, 1425, 15, 1)\n",
      "train_speed_y.shape =  (47, 1425, 1)\n",
      "test_speed_x.shape =  (1, 1425, 15, 1)\n",
      "test_speed_y.shape =  (1, 1425, 1)\n"
     ]
    }
   ],
   "source": [
    "train_speed, _, _, _, _ = get_certain_dayofweek(Speed[:334],dayofweek = 0)\n",
    "test_speed = train_speed[-1:]\n",
    "train_speed = train_speed[:-1]\n",
    "\n",
    "print('train_speed.shape = ',train_speed.shape)\n",
    "print('test_speed.shape = ',test_speed.shape)\n",
    "look_back = 15\n",
    "mode = 'uni'\n",
    "train_speed_x,train_speed_y = create_dataset(train_speed,train_speed, look_back, mode)\n",
    "test_speed_x,test_speed_y = create_dataset(test_speed,test_speed, look_back, mode)\n",
    "print('look_back = ',look_back)\n",
    "print('mode = ',mode)\n",
    "print('train_speed_x.shape = ',train_speed_x.shape)\n",
    "print('train_speed_y.shape = ',train_speed_y.shape)\n",
    "print('test_speed_x.shape = ',test_speed_x.shape)\n",
    "print('test_speed_y.shape = ',test_speed_y.shape)"
   ]
  },
  {
   "cell_type": "code",
   "execution_count": 7,
   "metadata": {
    "collapsed": true
   },
   "outputs": [],
   "source": [
    "epochs = 1000"
   ]
  },
  {
   "cell_type": "markdown",
   "metadata": {},
   "source": [
    "### Experiment1: input: univariate speed; output: univariate speed; lookback = 15; all year"
   ]
  },
  {
   "cell_type": "code",
   "execution_count": 28,
   "metadata": {
    "collapsed": true
   },
   "outputs": [],
   "source": [
    "from lib.Experiment1 import Experiment1"
   ]
  },
  {
   "cell_type": "code",
   "execution_count": null,
   "metadata": {
    "collapsed": true
   },
   "outputs": [],
   "source": [
    "model,history = Experiment1(epochs,data_train,data_test,Speed)\n",
    "# model.save_weights('images/weights/exp1.hdf5')"
   ]
  },
  {
   "cell_type": "code",
   "execution_count": null,
   "metadata": {
    "collapsed": true
   },
   "outputs": [],
   "source": [
    "history_plot(history,'images/history_exp1.png','images/test1_exp1.png',scoreflag=True,look_ahead = 1400,start = 0,test_case=1)\n",
    "history_plot(history,'images/history_exp1.png','images/test2_exp1.png',scoreflag=False,look_ahead = 1400,start = 0,test_case=2)\n",
    "history_plot(history,'images/history_exp1.png','images/test3_exp1.png',scoreflag=False,look_ahead = 1400,start = 0,test_case=3)"
   ]
  },
  {
   "cell_type": "markdown",
   "metadata": {},
   "source": [
    "### Experiment3: input: univariate speed; output: univariate speed; lookback = 15; lookback weeks = 6 (parallel structure); all weekdays for training, monday for testing\n"
   ]
  },
  {
   "cell_type": "code",
   "execution_count": 262,
   "metadata": {},
   "outputs": [
    {
     "name": "stdout",
     "output_type": "stream",
     "text": [
      "train_speed0.shape =  (49, 1440, 15)\n",
      "test_speed.shape =  (3, 1440, 15)\n"
     ]
    }
   ],
   "source": [
    "test_speed = Speed[data_test.index,:,:]\n",
    "\n",
    "train_speed0,_,_,_,_ = get_certain_dayofweek(Speed,0)\n",
    "train_speed1,_,_,_,_ = get_certain_dayofweek(Speed,1)\n",
    "train_speed2,_,_,_,_ = get_certain_dayofweek(Speed,2)\n",
    "train_speed3,_,_,_,_ = get_certain_dayofweek(Speed,3)\n",
    "train_speed4,_,_,_,_ = get_certain_dayofweek(Speed,4)\n",
    "train_speed5,_,_,_,_ = get_certain_dayofweek(Speed,5)\n",
    "train_speed6,_,_,_,_ = get_certain_dayofweek(Speed,6)\n",
    "\n",
    "print('train_speed0.shape = ',train_speed0.shape)\n",
    "print('test_speed.shape = ',test_speed.shape)"
   ]
  },
  {
   "cell_type": "code",
   "execution_count": 296,
   "metadata": {},
   "outputs": [
    {
     "name": "stdout",
     "output_type": "stream",
     "text": [
      "index1=45  index2=45  index3=47 \n"
     ]
    }
   ],
   "source": [
    "index1=list(data.index[data['dayofweek'] == 4]).index(data_test.index[data_test['dayofweek'] == 4][0])\n",
    "index2=list(data.index[data['dayofweek'] == 0]).index(data_test.index[data_test['dayofweek'] == 0][0])\n",
    "index3=list(data.index[data['dayofweek'] == 4]).index(data_test.index[data_test['dayofweek'] == 4][1])\n",
    "print('index1={}  index2={}  index3={} '.format(index1,index2,index3))"
   ]
  },
  {
   "cell_type": "code",
   "execution_count": 308,
   "metadata": {},
   "outputs": [
    {
     "name": "stdout",
     "output_type": "stream",
     "text": [
      "look_back =  15\n",
      "look_back_days =  6\n",
      "mode =  uni\n",
      "train_speed_x1.shape =  (301, 1425, 15, 1)\n",
      "train_speed_x2.shape =  (301, 1425, 6, 1)\n",
      "train_speed_y.shape =  (301, 1425, 1)\n",
      "test_speed_x1.shape =  (3, 1425, 15, 1)\n",
      "test_speed_x2.shape =  (3, 1425, 6, 1)\n",
      "test_speed_y.shape =  (3, 1425, 1)\n"
     ]
    }
   ],
   "source": [
    "look_back = 15\n",
    "look_back_days = 6\n",
    "mode = 'uni'\n",
    "train_speed_x1,train_speed_x2,train_speed_y = create_dataset_historyAsSecondInput(train_speed0,train_speed0, look_back, look_back_days, mode)\n",
    "test_speed_x1_2 = train_speed_x1[index2-look_back_days:index1-look_back_days+1,:,:,:]\n",
    "test_speed_x2_2 = train_speed_x2[index2-look_back_days:index1-look_back_days+1,:,:,:]\n",
    "test_speed_y_2 = train_speed_y[index2-look_back_days:index1-look_back_days+1,:,:]\n",
    "train_speed_x1 = train_speed_x1[list(range(index2-look_back_days))+list(range(index2-look_back_days+1,len(train_speed_x1))),:,:,:]\n",
    "train_speed_x2 = train_speed_x2[list(range(index2-look_back_days))+list(range(index2-look_back_days+1,len(train_speed_x2))),:,:,:]\n",
    "train_speed_y = train_speed_y[list(range(index2-look_back_days))+list(range(index2-look_back_days+1,len(train_speed_y))),:,:]\n",
    "\n",
    "train_speed_x10,train_speed_x20,train_speed_y0 = create_dataset_historyAsSecondInput(train_speed1,train_speed1, look_back, look_back_days, mode)\n",
    "train_speed_x1 = np.concatenate((train_speed_x1,train_speed_x10),axis=0)\n",
    "train_speed_x2 = np.concatenate((train_speed_x2,train_speed_x20),axis=0)\n",
    "train_speed_y = np.concatenate((train_speed_y,train_speed_y0),axis=0)\n",
    "train_speed_x10,train_speed_x20,train_speed_y0 = create_dataset_historyAsSecondInput(train_speed2,train_speed2, look_back, look_back_days, mode)\n",
    "train_speed_x1 = np.concatenate((train_speed_x1,train_speed_x10),axis=0)\n",
    "train_speed_x2 = np.concatenate((train_speed_x2,train_speed_x20),axis=0)\n",
    "train_speed_y = np.concatenate((train_speed_y,train_speed_y0),axis=0)\n",
    "train_speed_x10,train_speed_x20,train_speed_y0 = create_dataset_historyAsSecondInput(train_speed3,train_speed3, look_back, look_back_days, mode)\n",
    "train_speed_x1 = np.concatenate((train_speed_x1,train_speed_x10),axis=0)\n",
    "train_speed_x2 = np.concatenate((train_speed_x2,train_speed_x20),axis=0)\n",
    "train_speed_y = np.concatenate((train_speed_y,train_speed_y0),axis=0)\n",
    "\n",
    "train_speed_x10,train_speed_x20,train_speed_y0 = create_dataset_historyAsSecondInput(train_speed4,train_speed4, look_back, look_back_days, mode)\n",
    "test_speed_x1_13 = train_speed_x10[[index1-look_back_days,index3-look_back_days],:,:,:]\n",
    "test_speed_x2_13 = train_speed_x20[[index1-look_back_days,index3-look_back_days],:,:,:]\n",
    "test_speed_y_13 = train_speed_y0[[index1-look_back_days,index3-look_back_days],:,:]\n",
    "train_speed_x10 = train_speed_x10[list(range(index1-look_back_days))+list(range(index1-look_back_days+1,index3-look_back_days))+list(range(index3-look_back_days+1,len(train_speed_x10))),:,:,:]\n",
    "train_speed_x20 = train_speed_x20[list(range(index1-look_back_days))+list(range(index1-look_back_days+1,index3-look_back_days))+list(range(index3-look_back_days+1,len(train_speed_x20))),:,:,:]\n",
    "train_speed_y0 = train_speed_y0[list(range(index1-look_back_days))+list(range(index1-look_back_days+1,index3-look_back_days))+list(range(index3-look_back_days+1,len(train_speed_y0))),:,:]\n",
    "\n",
    "train_speed_x1 = np.concatenate((train_speed_x1,train_speed_x10),axis=0)\n",
    "train_speed_x2 = np.concatenate((train_speed_x2,train_speed_x20),axis=0)\n",
    "train_speed_y = np.concatenate((train_speed_y,train_speed_y0),axis=0)\n",
    "train_speed_x10,train_speed_x20,train_speed_y0 = create_dataset_historyAsSecondInput(train_speed5,train_speed5, look_back, look_back_days, mode)\n",
    "train_speed_x1 = np.concatenate((train_speed_x1,train_speed_x10),axis=0)\n",
    "train_speed_x2 = np.concatenate((train_speed_x2,train_speed_x20),axis=0)\n",
    "train_speed_y = np.concatenate((train_speed_y,train_speed_y0),axis=0)\n",
    "train_speed_x10,train_speed_x20,train_speed_y0 = create_dataset_historyAsSecondInput(train_speed6,train_speed6, look_back, look_back_days, mode)\n",
    "train_speed_x1 = np.concatenate((train_speed_x1,train_speed_x10),axis=0)\n",
    "train_speed_x2 = np.concatenate((train_speed_x2,train_speed_x20),axis=0)\n",
    "train_speed_y = np.concatenate((train_speed_y,train_speed_y0),axis=0)\n",
    "\n",
    "test_speed_x1 = np.concatenate((test_speed_x1_13[0:1],test_speed_x1_2,test_speed_x1_13[-1:]),axis=0)\n",
    "test_speed_x2 = np.concatenate((test_speed_x2_13[0:1],test_speed_x2_2,test_speed_x2_13[-1:]),axis=0)                                                                          \n",
    "test_speed_y = np.concatenate((test_speed_y_13[0:1],test_speed_y_2,test_speed_y_13[-1:]),axis=0)  \n",
    "                                                                        \n",
    "print('look_back = ',look_back)\n",
    "print('look_back_days = ',look_back_days)\n",
    "print('mode = ',mode)\n",
    "print('train_speed_x1.shape = ',train_speed_x1.shape)\n",
    "print('train_speed_x2.shape = ',train_speed_x2.shape)\n",
    "print('train_speed_y.shape = ',train_speed_y.shape)\n",
    "print('test_speed_x1.shape = ',test_speed_x1.shape)\n",
    "print('test_speed_x2.shape = ',test_speed_x2.shape)\n",
    "print('test_speed_y.shape = ',test_speed_y.shape)"
   ]
  },
  {
   "cell_type": "code",
   "execution_count": 315,
   "metadata": {},
   "outputs": [],
   "source": [
    "# plt.plot(test_speed_y[0,:,:]) "
   ]
  },
  {
   "cell_type": "code",
   "execution_count": 316,
   "metadata": {},
   "outputs": [
    {
     "name": "stderr",
     "output_type": "stream",
     "text": [
      "/Users/Shuo/anaconda2/envs/CarND/lib/python3.5/site-packages/keras/backend/tensorflow_backend.py:2289: UserWarning: Expected no kwargs, you passed 1\n",
      "kwargs passed to function are ignored with Tensorflow backend\n",
      "  warnings.warn('\\n'.join(msg))\n"
     ]
    },
    {
     "name": "stdout",
     "output_type": "stream",
     "text": [
      "Epoch 1/1\n",
      "428925/428925 [==============================] - 117s - loss: 1879.5114   \n"
     ]
    }
   ],
   "source": [
    "batch_size = train_speed_x.shape[1]\n",
    "\n",
    "todaySequence = Input(shape=(look_back, train_speed_x1.shape[3]),name='todaySequence')\n",
    "h1=LSTM(32, input_shape=(look_back, train_speed_x1.shape[3]), stateful=False, return_sequences=True)(todaySequence)\n",
    "h1=LSTM(32, input_shape=(look_back, train_speed_x1.shape[3]), stateful=False)(h1)\n",
    "\n",
    "historySequence = Input(shape=(look_back_days, train_speed_x2.shape[3]),name='historySequence')\n",
    "h2=LSTM(32, input_shape=(look_back, train_speed_x2.shape[3]), stateful=False, return_sequences=True)(historySequence)\n",
    "h2=LSTM(32, input_shape=(look_back, train_speed_x2.shape[3]), stateful=False)(h2)\n",
    "\n",
    "h3 = keras.layers.concatenate([h1, h2])\n",
    "predictedSpeed = Dense(1,name='predictedSpeed')(h3)\n",
    "\n",
    "model = Model(inputs=[todaySequence, historySequence], outputs=[predictedSpeed])\n",
    "\n",
    "model.compile(loss='mean_squared_error', optimizer='adam')\n",
    "\n",
    "# model.compile(optimizer='rmsprop',\n",
    "#               loss={'main_output': 'binary_crossentropy', 'aux_output': 'binary_crossentropy'},\n",
    "#               loss_weights={'main_output': 1., 'aux_output': 0.2})\n",
    "\n",
    "train_x1 = np.reshape(train_speed_x1,(train_speed_x1.shape[0]*train_speed_x1.shape[1],train_speed_x1.shape[2],train_speed_x1.shape[3]))\n",
    "train_x2 = np.reshape(train_speed_x2,(train_speed_x2.shape[0]*train_speed_x2.shape[1],train_speed_x2.shape[2],train_speed_x2.shape[3]))\n",
    "train_y = np.reshape(train_speed_y,(train_speed_y.shape[0]*train_speed_y.shape[1],train_speed_y.shape[2]))\n",
    "\n",
    "history = model.fit({'todaySequence': train_x1, 'historySequence': train_x2},\n",
    "          {'predictedSpeed': train_y},\n",
    "          epochs=epochs, batch_size=batch_size, verbose=1, shuffle=True)\n",
    "\n",
    "# model.load_weights('images/weights/exp3.hdf5', by_name=True)\n",
    "model.save_weights('images/weights/exp3.hdf5')"
   ]
  },
  {
   "cell_type": "code",
   "execution_count": 323,
   "metadata": {},
   "outputs": [],
   "source": [
    "history_plot_historyAsSecondInput(history,'images/history_exp3.png','images/test1_exp3.png',scoreflag=True,look_ahead = 1400,start = 0,test_case=1)\n",
    "history_plot_historyAsSecondInput(history,'images/history_exp3.png','images/test2_exp3.png',scoreflag=False,look_ahead = 1400,start = 0,test_case=2)\n",
    "history_plot_historyAsSecondInput(history,'images/history_exp3.png','images/test3_exp3.png',scoreflag=False,look_ahead = 1400,start = 0,test_case=3)"
   ]
  },
  {
   "cell_type": "markdown",
   "metadata": {},
   "source": [
    "### Experiment4: input: univariate speed; output: univariate delta speed; lookback = 15"
   ]
  },
  {
   "cell_type": "code",
   "execution_count": 354,
   "metadata": {},
   "outputs": [
    {
     "name": "stdout",
     "output_type": "stream",
     "text": [
      "train_speed0.shape =  (48, 1440, 15)\n",
      "test_speed.shape =  (3, 1440, 15)\n"
     ]
    }
   ],
   "source": [
    "train_speed0,train_speed_y0,_,mean0,_ = get_certain_dayofweek(Speed,0,data_train)\n",
    "train_speed1,train_speed_y1,_,_,_ = get_certain_dayofweek(Speed,1,data_train)\n",
    "train_speed2,train_speed_y2,_,_,_ = get_certain_dayofweek(Speed,2,data_train)\n",
    "train_speed3,train_speed_y3,_,_,_ = get_certain_dayofweek(Speed,3,data_train)\n",
    "train_speed4,train_speed_y4,_,mean4,_ = get_certain_dayofweek(Speed,4,data_train)\n",
    "train_speed5,train_speed_y5,_,_,_ = get_certain_dayofweek(Speed,5,data_train)\n",
    "train_speed6,train_speed_y6,_,_,_ = get_certain_dayofweek(Speed,6,data_train)\n",
    "\n",
    "test_speed = Speed[data_test.index,:,:]\n",
    "test_speed_y0 = np.concatenate((test_speed[0:1]-mean4,test_speed[1:2]-mean0,test_speed[2:3]-mean4),axis=0)\n",
    "\n",
    "print('train_speed0.shape = ',train_speed0.shape)\n",
    "print('test_speed.shape = ',test_speed.shape)\n",
    "# data_test"
   ]
  },
  {
   "cell_type": "code",
   "execution_count": 355,
   "metadata": {},
   "outputs": [
    {
     "name": "stdout",
     "output_type": "stream",
     "text": [
      "look_back =  15\n",
      "look_back_days =  6\n",
      "mode =  uni\n",
      "train_speed_x.shape =  (343, 1425, 15, 1)\n",
      "train_speed_y.shape =  (343, 1425, 1)\n",
      "test_speed_x.shape =  (3, 1425, 15, 1)\n",
      "test_speed_y.shape =  (3, 1425, 1)\n"
     ]
    }
   ],
   "source": [
    "look_back = 15\n",
    "mode = 'uni'\n",
    "\n",
    "test_speed_x,test_speed_y = create_dataset(test_speed,test_speed_y0, look_back, mode)\n",
    "\n",
    "train_speed_x,train_speed_y = create_dataset(train_speed0,train_speed_y0, look_back, mode)\n",
    "train_speed_x10,train_speed_y0 = create_dataset(train_speed1,train_speed_y1, look_back,mode)\n",
    "train_speed_x = np.concatenate((train_speed_x,train_speed_x10),axis=0)\n",
    "train_speed_y = np.concatenate((train_speed_y,train_speed_y0),axis=0)\n",
    "train_speed_x10,train_speed_y0 = create_dataset(train_speed2,train_speed_y2, look_back,mode)\n",
    "train_speed_x = np.concatenate((train_speed_x,train_speed_x10),axis=0)\n",
    "train_speed_y = np.concatenate((train_speed_y,train_speed_y0),axis=0)\n",
    "train_speed_x10,train_speed_y0 = create_dataset(train_speed3,train_speed_y3, look_back,mode)\n",
    "train_speed_x = np.concatenate((train_speed_x,train_speed_x10),axis=0)\n",
    "train_speed_y = np.concatenate((train_speed_y,train_speed_y0),axis=0)\n",
    "train_speed_x10,train_speed_y0 = create_dataset(train_speed4,train_speed_y4, look_back,mode)\n",
    "train_speed_x = np.concatenate((train_speed_x,train_speed_x10),axis=0)\n",
    "train_speed_y = np.concatenate((train_speed_y,train_speed_y0),axis=0)\n",
    "train_speed_x10,train_speed_y0 = create_dataset(train_speed5,train_speed_y5, look_back,mode)\n",
    "train_speed_x = np.concatenate((train_speed_x,train_speed_x10),axis=0)\n",
    "train_speed_y = np.concatenate((train_speed_y,train_speed_y0),axis=0)\n",
    "train_speed_x10,train_speed_y0 = create_dataset(train_speed6,train_speed_y6, look_back,mode)\n",
    "train_speed_x = np.concatenate((train_speed_x,train_speed_x10),axis=0)\n",
    "train_speed_y = np.concatenate((train_speed_y,train_speed_y0),axis=0)\n",
    "\n",
    "print('look_back = ',look_back)\n",
    "print('look_back_days = ',look_back_days)\n",
    "print('mode = ',mode)\n",
    "print('train_speed_x.shape = ',train_speed_x.shape)\n",
    "print('train_speed_y.shape = ',train_speed_y.shape)\n",
    "print('test_speed_x.shape = ',test_speed_x.shape)\n",
    "print('test_speed_y.shape = ',test_speed_y.shape)\n",
    "\n",
    "mean0=mean0[look_back:,:]\n",
    "mean4=mean4[look_back:,:]"
   ]
  },
  {
   "cell_type": "code",
   "execution_count": 361,
   "metadata": {},
   "outputs": [],
   "source": [
    "# plt.plot(test_speed_y[0,:,:]+mean0[:,0:1])  #12-19-2016 Monday 6:30AM - 8:30AM"
   ]
  },
  {
   "cell_type": "code",
   "execution_count": 367,
   "metadata": {},
   "outputs": [],
   "source": [
    "batch_size = train_speed_x.shape[1]\n",
    "\n",
    "model = Sequential()\n",
    "model.add(LSTM(32, input_shape=(look_back, train_speed_x.shape[3]), stateful=False, return_sequences=True))\n",
    "# model.add(Dropout(0.3))\n",
    "model.add(LSTM(32, input_shape=(look_back, train_speed_x.shape[3]), stateful=False))\n",
    "# model.add(Dropout(0.3))\n",
    "model.add(Dense(1))\n",
    "model.compile(loss='mean_squared_error', optimizer='adam')\n",
    "\n",
    "train_x = np.reshape(train_speed_x,(train_speed_x.shape[0]*train_speed_x.shape[1],train_speed_x.shape[2],train_speed_x.shape[3]))\n",
    "train_y = np.reshape(train_speed_y,(train_speed_y.shape[0]*train_speed_y.shape[1],train_speed_y.shape[2]))\n",
    "history = model.fit(train_x, train_y, epochs=epochs, batch_size=batch_size, verbose=1, shuffle=True)\n",
    "# model.load_weights('images/weights/exp4.hdf5', by_name=True)\n",
    "model.save_weights('images/weights/exp4.hdf5')"
   ]
  },
  {
   "cell_type": "code",
   "execution_count": 365,
   "metadata": {},
   "outputs": [],
   "source": [
    "history_plot(history,'images/history_exp4.png','images/test1_exp4.png',a=mean4,b=mean4,scoreflag=True,look_ahead = 1400,start = 0,test_case=1)\n",
    "history_plot(history,'images/history_exp4_delta.png','images/test1_exp4_delta.png',b=mean4,scoreflag=False,look_ahead = 1400,start = 0,test_case=1)\n",
    "\n",
    "history_plot(history,'images/history_exp4.png','images/test2_exp4.png',a=mean0,b=mean0,scoreflag=False,look_ahead = 1400,start = 0,test_case=2)\n",
    "history_plot(history,'images/history_exp4_delta.png','images/test2_exp4_delta.png',b=mean0,scoreflag=False,look_ahead = 1400,start = 0,test_case=2)\n",
    "\n",
    "history_plot(history,'images/history_exp4.png','images/test3_exp4.png',a=mean4,b=mean4,scoreflag=False,look_ahead = 1400,start = 0,test_case=3)\n",
    "history_plot(history,'images/history_exp4_delta.png','images/test3_exp4_delta.png',b=mean4,scoreflag=False,look_ahead = 1400,start = 0,test_case=3)"
   ]
  },
  {
   "cell_type": "markdown",
   "metadata": {},
   "source": [
    "### Experiment6: input: univariate speed; output: univariate delta speed; lookback = 15; lookback weeks = 6 (parallel structure)"
   ]
  },
  {
   "cell_type": "code",
   "execution_count": 8,
   "metadata": {},
   "outputs": [
    {
     "name": "stdout",
     "output_type": "stream",
     "text": [
      "train_speed0.shape =  (49, 1440, 15)\n",
      "test_speed.shape =  (3, 1440, 15)\n"
     ]
    }
   ],
   "source": [
    "train_speed0,train_speed_y0,_,mean0,_ = get_certain_dayofweek(Speed,0)\n",
    "train_speed1,train_speed_y1,_,_,_ = get_certain_dayofweek(Speed,1)\n",
    "train_speed2,train_speed_y2,_,_,_ = get_certain_dayofweek(Speed,2)\n",
    "train_speed3,train_speed_y3,_,_,_ = get_certain_dayofweek(Speed,3)\n",
    "train_speed4,train_speed_y4,_,mean4,_ = get_certain_dayofweek(Speed,4)\n",
    "train_speed5,train_speed_y5,_,_,_ = get_certain_dayofweek(Speed,5)\n",
    "train_speed6,train_speed_y6,_,_,_ = get_certain_dayofweek(Speed,6)\n",
    "\n",
    "test_speed = Speed[data_test.index,:,:]\n",
    "test_speed_y0 = np.concatenate((test_speed[0:1]-mean4,test_speed[1:2]-mean0,test_speed[2:3]-mean4),axis=0)\n",
    "\n",
    "print('train_speed0.shape = ',train_speed0.shape)\n",
    "print('test_speed.shape = ',test_speed.shape)"
   ]
  },
  {
   "cell_type": "code",
   "execution_count": 9,
   "metadata": {},
   "outputs": [
    {
     "name": "stdout",
     "output_type": "stream",
     "text": [
      "index1=45  index2=45  index3=47 \n"
     ]
    }
   ],
   "source": [
    "index1=list(data.index[data['dayofweek'] == 4]).index(data_test.index[data_test['dayofweek'] == 4][0])\n",
    "index2=list(data.index[data['dayofweek'] == 0]).index(data_test.index[data_test['dayofweek'] == 0][0])\n",
    "index3=list(data.index[data['dayofweek'] == 4]).index(data_test.index[data_test['dayofweek'] == 4][1])\n",
    "print('index1={}  index2={}  index3={} '.format(index1,index2,index3))"
   ]
  },
  {
   "cell_type": "code",
   "execution_count": 10,
   "metadata": {},
   "outputs": [
    {
     "name": "stdout",
     "output_type": "stream",
     "text": [
      "look_back =  15\n",
      "look_back_days =  6\n",
      "mode =  uni\n",
      "train_speed_x1.shape =  (301, 1425, 15, 1)\n",
      "train_speed_x2.shape =  (301, 1425, 6, 1)\n",
      "train_speed_y.shape =  (301, 1425, 1)\n",
      "test_speed_x1.shape =  (3, 1425, 15, 1)\n",
      "test_speed_x2.shape =  (3, 1425, 6, 1)\n",
      "test_speed_y.shape =  (3, 1425, 1)\n"
     ]
    }
   ],
   "source": [
    "look_back = 15\n",
    "look_back_days = 6\n",
    "mode = 'uni'\n",
    "train_speed_x1,train_speed_x2,train_speed_y = create_dataset_historyAsSecondInput(train_speed0,train_speed_y0, look_back, look_back_days, mode)\n",
    "test_speed_x1_2 = train_speed_x1[index2-look_back_days:index1-look_back_days+1,:,:,:]\n",
    "test_speed_x2_2 = train_speed_x2[index2-look_back_days:index1-look_back_days+1,:,:,:]\n",
    "test_speed_y_2 = train_speed_y[index2-look_back_days:index1-look_back_days+1,:,:]\n",
    "train_speed_x1 = train_speed_x1[list(range(index2-look_back_days))+list(range(index2-look_back_days+1,len(train_speed_x1))),:,:,:]\n",
    "train_speed_x2 = train_speed_x2[list(range(index2-look_back_days))+list(range(index2-look_back_days+1,len(train_speed_x2))),:,:,:]\n",
    "train_speed_y = train_speed_y[list(range(index2-look_back_days))+list(range(index2-look_back_days+1,len(train_speed_y))),:,:]\n",
    "\n",
    "train_speed_x10,train_speed_x20,train_speed_y0 = create_dataset_historyAsSecondInput(train_speed1,train_speed_y1, look_back, look_back_days, mode)\n",
    "train_speed_x1 = np.concatenate((train_speed_x1,train_speed_x10),axis=0)\n",
    "train_speed_x2 = np.concatenate((train_speed_x2,train_speed_x20),axis=0)\n",
    "train_speed_y = np.concatenate((train_speed_y,train_speed_y0),axis=0)\n",
    "train_speed_x10,train_speed_x20,train_speed_y0 = create_dataset_historyAsSecondInput(train_speed2,train_speed_y2, look_back, look_back_days, mode)\n",
    "train_speed_x1 = np.concatenate((train_speed_x1,train_speed_x10),axis=0)\n",
    "train_speed_x2 = np.concatenate((train_speed_x2,train_speed_x20),axis=0)\n",
    "train_speed_y = np.concatenate((train_speed_y,train_speed_y0),axis=0)\n",
    "train_speed_x10,train_speed_x20,train_speed_y0 = create_dataset_historyAsSecondInput(train_speed3,train_speed_y3, look_back, look_back_days, mode)\n",
    "train_speed_x1 = np.concatenate((train_speed_x1,train_speed_x10),axis=0)\n",
    "train_speed_x2 = np.concatenate((train_speed_x2,train_speed_x20),axis=0)\n",
    "train_speed_y = np.concatenate((train_speed_y,train_speed_y0),axis=0)\n",
    "\n",
    "train_speed_x10,train_speed_x20,train_speed_y0 = create_dataset_historyAsSecondInput(train_speed4,train_speed_y4, look_back, look_back_days, mode)\n",
    "test_speed_x1_13 = train_speed_x10[[index1-look_back_days,index3-look_back_days],:,:,:]\n",
    "test_speed_x2_13 = train_speed_x20[[index1-look_back_days,index3-look_back_days],:,:,:]\n",
    "test_speed_y_13 = train_speed_y0[[index1-look_back_days,index3-look_back_days],:,:]\n",
    "train_speed_x10 = train_speed_x10[list(range(index1-look_back_days))+list(range(index1-look_back_days+1,index3-look_back_days))+list(range(index3-look_back_days+1,len(train_speed_x10))),:,:,:]\n",
    "train_speed_x20 = train_speed_x20[list(range(index1-look_back_days))+list(range(index1-look_back_days+1,index3-look_back_days))+list(range(index3-look_back_days+1,len(train_speed_x20))),:,:,:]\n",
    "train_speed_y0 = train_speed_y0[list(range(index1-look_back_days))+list(range(index1-look_back_days+1,index3-look_back_days))+list(range(index3-look_back_days+1,len(train_speed_y0))),:,:]\n",
    "\n",
    "train_speed_x1 = np.concatenate((train_speed_x1,train_speed_x10),axis=0)\n",
    "train_speed_x2 = np.concatenate((train_speed_x2,train_speed_x20),axis=0)\n",
    "train_speed_y = np.concatenate((train_speed_y,train_speed_y0),axis=0)\n",
    "train_speed_x10,train_speed_x20,train_speed_y0 = create_dataset_historyAsSecondInput(train_speed5,train_speed_y5, look_back, look_back_days, mode)\n",
    "train_speed_x1 = np.concatenate((train_speed_x1,train_speed_x10),axis=0)\n",
    "train_speed_x2 = np.concatenate((train_speed_x2,train_speed_x20),axis=0)\n",
    "train_speed_y = np.concatenate((train_speed_y,train_speed_y0),axis=0)\n",
    "train_speed_x10,train_speed_x20,train_speed_y0 = create_dataset_historyAsSecondInput(train_speed6,train_speed_y6, look_back, look_back_days, mode)\n",
    "train_speed_x1 = np.concatenate((train_speed_x1,train_speed_x10),axis=0)\n",
    "train_speed_x2 = np.concatenate((train_speed_x2,train_speed_x20),axis=0)\n",
    "train_speed_y = np.concatenate((train_speed_y,train_speed_y0),axis=0)\n",
    "\n",
    "test_speed_x1 = np.concatenate((test_speed_x1_13[0:1],test_speed_x1_2,test_speed_x1_13[-1:]),axis=0)\n",
    "test_speed_x2 = np.concatenate((test_speed_x2_13[0:1],test_speed_x2_2,test_speed_x2_13[-1:]),axis=0)                                                                          \n",
    "test_speed_y = np.concatenate((test_speed_y_13[0:1],test_speed_y_2,test_speed_y_13[-1:]),axis=0)  \n",
    "                                                                        \n",
    "print('look_back = ',look_back)\n",
    "print('look_back_days = ',look_back_days)\n",
    "print('mode = ',mode)\n",
    "print('train_speed_x1.shape = ',train_speed_x1.shape)\n",
    "print('train_speed_x2.shape = ',train_speed_x2.shape)\n",
    "print('train_speed_y.shape = ',train_speed_y.shape)\n",
    "print('test_speed_x1.shape = ',test_speed_x1.shape)\n",
    "print('test_speed_x2.shape = ',test_speed_x2.shape)\n",
    "print('test_speed_y.shape = ',test_speed_y.shape)\n",
    "\n",
    "mean0=mean0[look_back:,:]\n",
    "mean4=mean4[look_back:,:]"
   ]
  },
  {
   "cell_type": "code",
   "execution_count": 386,
   "metadata": {},
   "outputs": [],
   "source": [
    "# plt.plot(test_speed_y[0,:,:]+mean4[:,0:1])  #12-19-2016 Monday 6:30AM - 8:30AM"
   ]
  },
  {
   "cell_type": "code",
   "execution_count": 11,
   "metadata": {},
   "outputs": [
    {
     "name": "stderr",
     "output_type": "stream",
     "text": [
      "/Users/Shuo/anaconda2/envs/CarND/lib/python3.5/site-packages/keras/backend/tensorflow_backend.py:2289: UserWarning: Expected no kwargs, you passed 1\n",
      "kwargs passed to function are ignored with Tensorflow backend\n",
      "  warnings.warn('\\n'.join(msg))\n"
     ]
    },
    {
     "name": "stdout",
     "output_type": "stream",
     "text": [
      "Epoch 1/1\n",
      "428925/428925 [==============================] - 62s - loss: 5.3992    \n"
     ]
    }
   ],
   "source": [
    "\n",
    "batch_size = train_speed_x.shape[1]\n",
    "\n",
    "todaySequence = Input(shape=(look_back, train_speed_x1.shape[3]),name='todaySequence')\n",
    "h1=LSTM(32, input_shape=(look_back, train_speed_x1.shape[3]), stateful=False, return_sequences=True)(todaySequence)\n",
    "\n",
    "h1=LSTM(32, input_shape=(look_back, train_speed_x1.shape[3]), stateful=False,name='h1')(todaySequence)\n",
    "h1= BatchNormalization()(h1)\n",
    "\n",
    "historySequence = Input(shape=(look_back_days, train_speed_x2.shape[3]),name='historySequence')\n",
    "h2=LSTM(32, input_shape=(look_back, train_speed_x2.shape[3]), stateful=False, return_sequences=True)(historySequence)\n",
    "h2=LSTM(32, input_shape=(look_back, train_speed_x2.shape[3]), stateful=False,name='h2')(h2)\n",
    "\n",
    "h3 = keras.layers.concatenate([h1, h2],name='h3')\n",
    "# h3 = keras.layers.concatenate([h1, h2],name='h3')\n",
    "\n",
    "predictedSpeed = Dense(1,name='predictedSpeed')(h3)\n",
    "\n",
    "model = Model(inputs=[todaySequence, historySequence], outputs=[predictedSpeed])\n",
    "\n",
    "model.compile(loss='mean_squared_error', optimizer='adam')\n",
    "\n",
    "# model.compile(optimizer='rmsprop',\n",
    "#               loss={'main_output': 'binary_crossentropy', 'aux_output': 'binary_crossentropy'},\n",
    "#               loss_weights={'main_output': 1., 'aux_output': 0.2})\n",
    "\n",
    "train_x1 = np.reshape(train_speed_x1,(train_speed_x1.shape[0]*train_speed_x1.shape[1],train_speed_x1.shape[2],train_speed_x1.shape[3]))\n",
    "train_x2 = np.reshape(train_speed_x2,(train_speed_x2.shape[0]*train_speed_x2.shape[1],train_speed_x2.shape[2],train_speed_x2.shape[3]))\n",
    "train_y = np.reshape(train_speed_y,(train_speed_y.shape[0]*train_speed_y.shape[1],train_speed_y.shape[2]))\n",
    "\n",
    "history = model.fit({'todaySequence': train_x1, 'historySequence': train_x2},\n",
    "          {'predictedSpeed': train_y},\n",
    "          epochs=epochs, batch_size=batch_size, verbose=1, shuffle=True)\n",
    "\n",
    "# model.load_weights('images/weights/exp6.hdf5', by_name=True)\n",
    "model.save_weights('images/weights/exp6.hdf5')"
   ]
  },
  {
   "cell_type": "code",
   "execution_count": 12,
   "metadata": {},
   "outputs": [],
   "source": [
    "history_plot_historyAsSecondInput(history,'images/history_exp6.png','images/test1_exp6.png',a=mean4,b=mean4,scoreflag=True,look_ahead = 1400,start = 0,test_case=1)\n",
    "history_plot_historyAsSecondInput(history,'images/history_exp6_delta.png','images/test1_exp6_delta.png',b=mean4,scoreflag=False,look_ahead = 1400,start = 0,test_case=1)\n",
    "\n",
    "history_plot_historyAsSecondInput(history,'images/history_exp6.png','images/test2_exp6.png',a=mean0,b=mean0,scoreflag=False,look_ahead = 1400,start = 0,test_case=2)\n",
    "history_plot_historyAsSecondInput(history,'images/history_exp6_delta.png','images/test2_exp6_delta.png',b=mean0,scoreflag=False,look_ahead = 1400,start = 0,test_case=2)\n",
    "\n",
    "history_plot_historyAsSecondInput(history,'images/history_exp6.png','images/test3_exp6.png',a=mean4,b=mean4,scoreflag=False,look_ahead = 1400,start = 0,test_case=3)\n",
    "history_plot_historyAsSecondInput(history,'images/history_exp6_delta.png','images/test3_exp6_delta.png',b=mean4,scoreflag=False,look_ahead = 1400,start = 0,test_case=3)"
   ]
  },
  {
   "cell_type": "markdown",
   "metadata": {},
   "source": [
    "### plotting functions for multi-variate cases"
   ]
  },
  {
   "cell_type": "code",
   "execution_count": 59,
   "metadata": {
    "collapsed": true
   },
   "outputs": [],
   "source": [
    "# plotting functions for multi-variate cases\n",
    "\n",
    "def history_plot_multi(history_object,image1='image1',image2='image2',image3='image3',a=np.zeros((test_speed_y.shape[1],1)),b=np.zeros((test_speed_y.shape[1],1)),scoreflag=True,look_ahead = 120,start = 390,test_case=1):\n",
    "    \n",
    "    if scoreflag:\n",
    "        model_score(history_object,image1)\n",
    "        \n",
    "    fig1 = plt.figure(figsize=(12,20))    \n",
    "    pred_ranges = [1,5]\n",
    "    subplot_id = 0\n",
    "    predictions_all = []\n",
    "    \n",
    "    for pred_range in pred_ranges:\n",
    "        subplot_id += 1\n",
    "        predictions = np.zeros((look_ahead,15))\n",
    "        for i in range(look_ahead):\n",
    "            trainPredict = test_speed_x[test_case-1,start+i,:,:]\n",
    "            for j in range(pred_range):\n",
    "                prediction = model.predict(np.array([trainPredict]), batch_size=batch_size)\n",
    "                trainPredict = np.vstack([trainPredict[1:],prediction+b[(start+i):(start+i+1),:1]])\n",
    "            predictions[i] = prediction\n",
    "        \n",
    "        predictions_all.append(predictions)\n",
    "        \n",
    "        ax = plt.subplot(len(pred_ranges),1,subplot_id)\n",
    "        ax.set_title('{} min prediction'.format(pred_range), fontsize=20)\n",
    "        \n",
    "        plt.plot(np.arange(start+pred_range,start+look_ahead+pred_range),predictions[:,:1]+a[start:(start+look_ahead),:1],'r',label=\"prediction\")\n",
    "        plt.plot(np.arange(start+pred_range,start+look_ahead+pred_range),test_speed_y[test_case-1,(start+pred_range-1):(start+look_ahead+pred_range-1),:1]+a[(start+pred_range-1):(start+look_ahead+pred_range-1),:1],label=\"test function\")\n",
    "        plt.legend()\n",
    "        \n",
    "    fig1.savefig(image2, bbox_inches='tight')\n",
    "    \n",
    "    fig3 = plt.figure(figsize=(12,20))\n",
    "    ax1 = plt.subplot(len(pred_ranges)+1,1,1)\n",
    "    ax1.set_title('test data', fontsize=20)\n",
    "    plt.pcolor(test_speed_y[test_case-1,(start+pred_range-1):(start+look_ahead+pred_range-1),:].transpose()+a[(start+pred_range-1):(start+look_ahead+pred_range-1),:].transpose(),cmap=my_cmap, vmin=20, vmax=70)\n",
    "    \n",
    "    subplot_id = 1\n",
    "    for pred_range in pred_ranges:\n",
    "        subplot_id += 1\n",
    "        predictions = predictions_all[subplot_id-2]\n",
    "        ax2 = plt.subplot(len(pred_ranges)+1,1,subplot_id)\n",
    "        ax2.set_title('{} min prediction'.format(pred_range), fontsize=20)\n",
    "        plt.pcolor(predictions.transpose()+a[(start+pred_range-1):(start+look_ahead+pred_range-1),:].transpose(),cmap=my_cmap, vmin=20, vmax=70)\n",
    "\n",
    "    fig3.savefig(image3, bbox_inches='tight')\n",
    "\n",
    "def history_plot_multi_historyAsSecondInput(history_object,image1='image1',image2='image2',image3='image3',a=np.zeros((test_speed_y.shape[1],1)),b=np.zeros((test_speed_y.shape[1],1)),scoreflag=True,look_ahead = 120,start = 390,test_case=1):\n",
    "  \n",
    "    if scoreflag:\n",
    "        model_score2(history_object,image1)\n",
    "        \n",
    "    fig1 = plt.figure(figsize=(12,20))    \n",
    "    pred_ranges = [1,5]\n",
    "    subplot_id = 0\n",
    "    predictions_all = []\n",
    "    for pred_range in pred_ranges:\n",
    "        subplot_id += 1\n",
    "        predictions = np.zeros((look_ahead,15))\n",
    "        for i in range(look_ahead):\n",
    "            trainPredict = test_speed_x1[test_case-1,start+i,:,:]\n",
    "            input2 = test_speed_x2[test_case-1,start+i,:,:]\n",
    "            for j in range(pred_range):\n",
    "                prediction = model.predict([np.array([trainPredict]),np.array([input2])], batch_size=batch_size)\n",
    "                trainPredict = np.vstack([trainPredict[1:],prediction+b[(start+i):(start+i+1),:1]])\n",
    "            predictions[i] = prediction\n",
    "            \n",
    "        predictions_all.append(predictions)\n",
    "        \n",
    "        ax = plt.subplot(len(pred_ranges),1,subplot_id)\n",
    "        ax.set_title('{} min prediction'.format(pred_range), fontsize=20)\n",
    "        \n",
    "        plt.plot(np.arange(start+pred_range,start+look_ahead+pred_range),predictions[:,:1]+a[start:(start+look_ahead),:1],'r',label=\"prediction\")\n",
    "        plt.plot(np.arange(start+pred_range,start+look_ahead+pred_range),test_speed_y[test_case-1,(start+pred_range-1):(start+look_ahead+pred_range-1),:1]+a[(start+pred_range-1):(start+look_ahead+pred_range-1),:1],label=\"test function\")\n",
    "        plt.legend()\n",
    "        \n",
    "    fig1.savefig(image2, bbox_inches='tight')\n",
    "    \n",
    "    fig3 = plt.figure(figsize=(12,20))\n",
    "    ax1 = plt.subplot(len(pred_ranges)+1,1,1)\n",
    "    ax1.set_title('test data', fontsize=20)\n",
    "    plt.pcolor(test_speed_y[test_case-1,(start+pred_range-1):(start+look_ahead+pred_range-1),:].transpose()+a[(start+pred_range-1):(start+look_ahead+pred_range-1),:].transpose(),cmap=my_cmap, vmin=20, vmax=70)\n",
    "    \n",
    "    subplot_id = 1\n",
    "    for pred_range in pred_ranges:\n",
    "        subplot_id += 1\n",
    "        predictions = predictions_all[subplot_id-2]\n",
    "        ax2 = plt.subplot(len(pred_ranges)+1,1,subplot_id)\n",
    "        ax2.set_title('{} min prediction'.format(pred_range), fontsize=20)\n",
    "        plt.pcolor(predictions.transpose()+a[(start+pred_range-1):(start+look_ahead+pred_range-1),:].transpose(),cmap=my_cmap, vmin=20, vmax=70)\n",
    "\n",
    "    fig3.savefig(image3, bbox_inches='tight')\n"
   ]
  },
  {
   "cell_type": "markdown",
   "metadata": {},
   "source": [
    "### Experiment7: input: multivariate speed; output: multivariate speed; lookback = 15"
   ]
  },
  {
   "cell_type": "code",
   "execution_count": 15,
   "metadata": {},
   "outputs": [
    {
     "name": "stdout",
     "output_type": "stream",
     "text": [
      "train_speed.shape =  (343, 1440, 15)\n",
      "test_speed.shape =  (3, 1440, 15)\n"
     ]
    }
   ],
   "source": [
    "test_speed = Speed[data_test.index,:,:]\n",
    "train_speed = Speed[data_train.index,:,:]\n",
    "print('train_speed.shape = ',train_speed.shape)\n",
    "print('test_speed.shape = ',test_speed.shape)"
   ]
  },
  {
   "cell_type": "code",
   "execution_count": 16,
   "metadata": {},
   "outputs": [
    {
     "name": "stdout",
     "output_type": "stream",
     "text": [
      "look_back =  15\n",
      "mode =  multi\n",
      "train_speed_x.shape =  (343, 1425, 15, 15)\n",
      "train_speed_y.shape =  (343, 1425, 15)\n",
      "test_speed_x.shape =  (3, 1425, 15, 15)\n",
      "test_speed_y.shape =  (3, 1425, 15)\n"
     ]
    }
   ],
   "source": [
    "look_back = 15\n",
    "mode = 'multi'\n",
    "train_speed_x,train_speed_y = create_dataset(train_speed,train_speed, look_back, mode)\n",
    "test_speed_x,test_speed_y = create_dataset(test_speed,test_speed, look_back, mode)\n",
    "print('look_back = ',look_back)\n",
    "print('mode = ',mode)\n",
    "print('train_speed_x.shape = ',train_speed_x.shape)\n",
    "print('train_speed_y.shape = ',train_speed_y.shape)\n",
    "print('test_speed_x.shape = ',test_speed_x.shape)\n",
    "print('test_speed_y.shape = ',test_speed_y.shape)"
   ]
  },
  {
   "cell_type": "code",
   "execution_count": 45,
   "metadata": {},
   "outputs": [],
   "source": [
    "# %matplotlib inline\n",
    "# plt.plot(test_speed_y[0,:,:1])  \n",
    "# plt.pcolor(test_speed_y[1,:,:].transpose(),cmap=my_cmap, vmin=20, vmax=70)  #12-19-2016 Monday 6:30AM - 8:30AM"
   ]
  },
  {
   "cell_type": "code",
   "execution_count": 26,
   "metadata": {},
   "outputs": [
    {
     "name": "stderr",
     "output_type": "stream",
     "text": [
      "/Users/Shuo/anaconda2/envs/CarND/lib/python3.5/site-packages/keras/backend/tensorflow_backend.py:2289: UserWarning: Expected no kwargs, you passed 1\n",
      "kwargs passed to function are ignored with Tensorflow backend\n",
      "  warnings.warn('\\n'.join(msg))\n"
     ]
    },
    {
     "name": "stdout",
     "output_type": "stream",
     "text": [
      "Epoch 1/1\n",
      "488775/488775 [==============================] - 102s - loss: 3470.6461   \n"
     ]
    }
   ],
   "source": [
    "batch_size = train_speed_x.shape[1]\n",
    "\n",
    "model = Sequential()\n",
    "model.add(LSTM(32, input_shape=(look_back, train_speed_x.shape[3]), stateful=False, return_sequences=True))\n",
    "# model.add(Dropout(0.3))\n",
    "model.add(LSTM(32, input_shape=(look_back, train_speed_x.shape[3]), stateful=False))\n",
    "# model.add(Dropout(0.3))\n",
    "# model.add(Flatten())\n",
    "model.add(Dense(train_speed_y.shape[2]))\n",
    "model.compile(loss='mean_squared_error', optimizer='adam')\n",
    "\n",
    "train_x = np.reshape(train_speed_x,(train_speed_x.shape[0]*train_speed_x.shape[1],train_speed_x.shape[2],train_speed_x.shape[3]))\n",
    "train_y = np.reshape(train_speed_y,(train_speed_y.shape[0]*train_speed_y.shape[1],train_speed_y.shape[2]))\n",
    "history = model.fit(train_x, train_y,epochs=epochs, batch_size=batch_size, verbose=1, shuffle=True)\n",
    "\n",
    "# model.load_weights('images/weights/exp7.hdf5', by_name=True)\n",
    "model.save_weights('images/weights/exp7.hdf5')"
   ]
  },
  {
   "cell_type": "code",
   "execution_count": 35,
   "metadata": {},
   "outputs": [],
   "source": [
    "history_plot_multi(history,'images/history_exp7.png','images/test1_exp7.png','images/test1_heatmap_exp7.png',scoreflag=True,look_ahead = 1400,start = 0,test_case=1)\n",
    "history_plot_multi(history,'images/history_exp7.png','images/test2_exp7.png','images/test2_heatmap_exp7.png',scoreflag=False,look_ahead = 1400,start = 0,test_case=2)\n",
    "history_plot_multi(history,'images/history_exp7.png','images/test3_exp7.png','images/test3_heatmap_exp7.png',scoreflag=False,look_ahead = 1400,start = 0,test_case=3)"
   ]
  },
  {
   "cell_type": "markdown",
   "metadata": {},
   "source": [
    "### Experiment9: input: multivariate speed; output: multivariate speed; lookback = 15; lookback weeks = 6 (parallel structure)"
   ]
  },
  {
   "cell_type": "code",
   "execution_count": 38,
   "metadata": {},
   "outputs": [
    {
     "name": "stdout",
     "output_type": "stream",
     "text": [
      "train_speed0.shape =  (49, 1440, 15)\n",
      "test_speed.shape =  (3, 1440, 15)\n"
     ]
    }
   ],
   "source": [
    "test_speed = Speed[data_test.index,:,:]\n",
    "\n",
    "train_speed0,_,_,_,_ = get_certain_dayofweek(Speed,0)\n",
    "train_speed1,_,_,_,_ = get_certain_dayofweek(Speed,1)\n",
    "train_speed2,_,_,_,_ = get_certain_dayofweek(Speed,2)\n",
    "train_speed3,_,_,_,_ = get_certain_dayofweek(Speed,3)\n",
    "train_speed4,_,_,_,_ = get_certain_dayofweek(Speed,4)\n",
    "train_speed5,_,_,_,_ = get_certain_dayofweek(Speed,5)\n",
    "train_speed6,_,_,_,_ = get_certain_dayofweek(Speed,6)\n",
    "\n",
    "print('train_speed0.shape = ',train_speed0.shape)\n",
    "print('test_speed.shape = ',test_speed.shape)"
   ]
  },
  {
   "cell_type": "code",
   "execution_count": 39,
   "metadata": {},
   "outputs": [
    {
     "name": "stdout",
     "output_type": "stream",
     "text": [
      "index1=45  index2=45  index3=47 \n"
     ]
    }
   ],
   "source": [
    "index1=list(data.index[data['dayofweek'] == 4]).index(data_test.index[data_test['dayofweek'] == 4][0])\n",
    "index2=list(data.index[data['dayofweek'] == 0]).index(data_test.index[data_test['dayofweek'] == 0][0])\n",
    "index3=list(data.index[data['dayofweek'] == 4]).index(data_test.index[data_test['dayofweek'] == 4][1])\n",
    "print('index1={}  index2={}  index3={} '.format(index1,index2,index3))"
   ]
  },
  {
   "cell_type": "code",
   "execution_count": 40,
   "metadata": {},
   "outputs": [
    {
     "name": "stdout",
     "output_type": "stream",
     "text": [
      "look_back =  15\n",
      "look_back_days =  6\n",
      "mode =  multi\n",
      "train_speed_x1.shape =  (301, 1425, 15, 15)\n",
      "train_speed_x2.shape =  (301, 1425, 6, 15)\n",
      "train_speed_y.shape =  (301, 1425, 15)\n",
      "test_speed_x1.shape =  (3, 1425, 15, 15)\n",
      "test_speed_x2.shape =  (3, 1425, 6, 15)\n",
      "test_speed_y.shape =  (3, 1425, 15)\n"
     ]
    }
   ],
   "source": [
    "look_back = 15\n",
    "look_back_days = 6\n",
    "mode = 'multi'\n",
    "train_speed_x1,train_speed_x2,train_speed_y = create_dataset_historyAsSecondInput(train_speed0,train_speed0, look_back, look_back_days, mode)\n",
    "test_speed_x1_2 = train_speed_x1[index2-look_back_days:index1-look_back_days+1,:,:,:]\n",
    "test_speed_x2_2 = train_speed_x2[index2-look_back_days:index1-look_back_days+1,:,:,:]\n",
    "test_speed_y_2 = train_speed_y[index2-look_back_days:index1-look_back_days+1,:,:]\n",
    "train_speed_x1 = train_speed_x1[list(range(index2-look_back_days))+list(range(index2-look_back_days+1,len(train_speed_x1))),:,:,:]\n",
    "train_speed_x2 = train_speed_x2[list(range(index2-look_back_days))+list(range(index2-look_back_days+1,len(train_speed_x2))),:,:,:]\n",
    "train_speed_y = train_speed_y[list(range(index2-look_back_days))+list(range(index2-look_back_days+1,len(train_speed_y))),:,:]\n",
    "\n",
    "train_speed_x10,train_speed_x20,train_speed_y0 = create_dataset_historyAsSecondInput(train_speed1,train_speed1, look_back, look_back_days, mode)\n",
    "train_speed_x1 = np.concatenate((train_speed_x1,train_speed_x10),axis=0)\n",
    "train_speed_x2 = np.concatenate((train_speed_x2,train_speed_x20),axis=0)\n",
    "train_speed_y = np.concatenate((train_speed_y,train_speed_y0),axis=0)\n",
    "train_speed_x10,train_speed_x20,train_speed_y0 = create_dataset_historyAsSecondInput(train_speed2,train_speed2, look_back, look_back_days, mode)\n",
    "train_speed_x1 = np.concatenate((train_speed_x1,train_speed_x10),axis=0)\n",
    "train_speed_x2 = np.concatenate((train_speed_x2,train_speed_x20),axis=0)\n",
    "train_speed_y = np.concatenate((train_speed_y,train_speed_y0),axis=0)\n",
    "train_speed_x10,train_speed_x20,train_speed_y0 = create_dataset_historyAsSecondInput(train_speed3,train_speed3, look_back, look_back_days, mode)\n",
    "train_speed_x1 = np.concatenate((train_speed_x1,train_speed_x10),axis=0)\n",
    "train_speed_x2 = np.concatenate((train_speed_x2,train_speed_x20),axis=0)\n",
    "train_speed_y = np.concatenate((train_speed_y,train_speed_y0),axis=0)\n",
    "\n",
    "train_speed_x10,train_speed_x20,train_speed_y0 = create_dataset_historyAsSecondInput(train_speed4,train_speed4, look_back, look_back_days, mode)\n",
    "test_speed_x1_13 = train_speed_x10[[index1-look_back_days,index3-look_back_days],:,:,:]\n",
    "test_speed_x2_13 = train_speed_x20[[index1-look_back_days,index3-look_back_days],:,:,:]\n",
    "test_speed_y_13 = train_speed_y0[[index1-look_back_days,index3-look_back_days],:,:]\n",
    "train_speed_x10 = train_speed_x10[list(range(index1-look_back_days))+list(range(index1-look_back_days+1,index3-look_back_days))+list(range(index3-look_back_days+1,len(train_speed_x10))),:,:,:]\n",
    "train_speed_x20 = train_speed_x20[list(range(index1-look_back_days))+list(range(index1-look_back_days+1,index3-look_back_days))+list(range(index3-look_back_days+1,len(train_speed_x20))),:,:,:]\n",
    "train_speed_y0 = train_speed_y0[list(range(index1-look_back_days))+list(range(index1-look_back_days+1,index3-look_back_days))+list(range(index3-look_back_days+1,len(train_speed_y0))),:,:]\n",
    "\n",
    "train_speed_x1 = np.concatenate((train_speed_x1,train_speed_x10),axis=0)\n",
    "train_speed_x2 = np.concatenate((train_speed_x2,train_speed_x20),axis=0)\n",
    "train_speed_y = np.concatenate((train_speed_y,train_speed_y0),axis=0)\n",
    "train_speed_x10,train_speed_x20,train_speed_y0 = create_dataset_historyAsSecondInput(train_speed5,train_speed5, look_back, look_back_days, mode)\n",
    "train_speed_x1 = np.concatenate((train_speed_x1,train_speed_x10),axis=0)\n",
    "train_speed_x2 = np.concatenate((train_speed_x2,train_speed_x20),axis=0)\n",
    "train_speed_y = np.concatenate((train_speed_y,train_speed_y0),axis=0)\n",
    "train_speed_x10,train_speed_x20,train_speed_y0 = create_dataset_historyAsSecondInput(train_speed6,train_speed6, look_back, look_back_days, mode)\n",
    "train_speed_x1 = np.concatenate((train_speed_x1,train_speed_x10),axis=0)\n",
    "train_speed_x2 = np.concatenate((train_speed_x2,train_speed_x20),axis=0)\n",
    "train_speed_y = np.concatenate((train_speed_y,train_speed_y0),axis=0)\n",
    "\n",
    "test_speed_x1 = np.concatenate((test_speed_x1_13[0:1],test_speed_x1_2,test_speed_x1_13[-1:]),axis=0)\n",
    "test_speed_x2 = np.concatenate((test_speed_x2_13[0:1],test_speed_x2_2,test_speed_x2_13[-1:]),axis=0)                                                                          \n",
    "test_speed_y = np.concatenate((test_speed_y_13[0:1],test_speed_y_2,test_speed_y_13[-1:]),axis=0)  \n",
    "                                                                        \n",
    "print('look_back = ',look_back)\n",
    "print('look_back_days = ',look_back_days)\n",
    "print('mode = ',mode)\n",
    "print('train_speed_x1.shape = ',train_speed_x1.shape)\n",
    "print('train_speed_x2.shape = ',train_speed_x2.shape)\n",
    "print('train_speed_y.shape = ',train_speed_y.shape)\n",
    "print('test_speed_x1.shape = ',test_speed_x1.shape)\n",
    "print('test_speed_x2.shape = ',test_speed_x2.shape)\n",
    "print('test_speed_y.shape = ',test_speed_y.shape)"
   ]
  },
  {
   "cell_type": "code",
   "execution_count": 42,
   "metadata": {},
   "outputs": [
    {
     "data": {
      "text/plain": [
       "<matplotlib.collections.PolyCollection at 0x11db8bb00>"
      ]
     },
     "execution_count": 42,
     "metadata": {},
     "output_type": "execute_result"
    },
    {
     "data": {
      "image/png": "[encoded data removed]",
      "text/plain": [
       "<matplotlib.figure.Figure at 0x150e8c160>"
      ]
     },
     "metadata": {},
     "output_type": "display_data"
    }
   ],
   "source": [
    "# plt.plot(test_speed_y[0,:,:1])  #12-19-2016 Monday 6:30AM - 8:30AM\n",
    "# plt.pcolor(test_speed_y[0,:,:].transpose(),cmap=my_cmap, vmin=20, vmax=70)  #12-19-2016 Monday 6:30AM - 8:30AM"
   ]
  },
  {
   "cell_type": "code",
   "execution_count": 43,
   "metadata": {},
   "outputs": [
    {
     "name": "stderr",
     "output_type": "stream",
     "text": [
      "/Users/Shuo/anaconda2/envs/CarND/lib/python3.5/site-packages/keras/backend/tensorflow_backend.py:2289: UserWarning: Expected no kwargs, you passed 1\n",
      "kwargs passed to function are ignored with Tensorflow backend\n",
      "  warnings.warn('\\n'.join(msg))\n"
     ]
    },
    {
     "name": "stdout",
     "output_type": "stream",
     "text": [
      "Epoch 1/1\n",
      "428925/428925 [==============================] - 110s - loss: 2960.1167   \n"
     ]
    }
   ],
   "source": [
    "batch_size = train_speed_x.shape[1]\n",
    "\n",
    "todaySequence = Input(shape=(look_back, train_speed_x1.shape[3]),name='todaySequence')\n",
    "h1=LSTM(32, input_shape=(look_back, train_speed_x1.shape[3]), stateful=False, return_sequences=True)(todaySequence)\n",
    "h1=LSTM(32, input_shape=(look_back, train_speed_x1.shape[3]), stateful=False)(h1)\n",
    "\n",
    "historySequence = Input(shape=(look_back_days, train_speed_x2.shape[3]),name='historySequence')\n",
    "h2=LSTM(32, input_shape=(look_back, train_speed_x2.shape[3]), stateful=False, return_sequences=True)(historySequence)\n",
    "h2=LSTM(32, input_shape=(look_back, train_speed_x2.shape[3]), stateful=False)(h2)\n",
    "\n",
    "h3 = keras.layers.concatenate([h1, h2])\n",
    "predictedSpeed = Dense(train_speed_y.shape[2],name='predictedSpeed')(h3)\n",
    "\n",
    "model = Model(inputs=[todaySequence, historySequence], outputs=[predictedSpeed])\n",
    "\n",
    "model.compile(loss='mean_squared_error', optimizer='adam')\n",
    "\n",
    "# model.compile(optimizer='rmsprop',\n",
    "#               loss={'main_output': 'binary_crossentropy', 'aux_output': 'binary_crossentropy'},\n",
    "#               loss_weights={'main_output': 1., 'aux_output': 0.2})\n",
    "\n",
    "train_x1 = np.reshape(train_speed_x1,(train_speed_x1.shape[0]*train_speed_x1.shape[1],train_speed_x1.shape[2],train_speed_x1.shape[3]))\n",
    "train_x2 = np.reshape(train_speed_x2,(train_speed_x2.shape[0]*train_speed_x2.shape[1],train_speed_x2.shape[2],train_speed_x2.shape[3]))\n",
    "train_y = np.reshape(train_speed_y,(train_speed_y.shape[0]*train_speed_y.shape[1],train_speed_y.shape[2]))\n",
    "\n",
    "history = model.fit({'todaySequence': train_x1, 'historySequence': train_x2},\n",
    "          {'predictedSpeed': train_y},\n",
    "          epochs=epochs, batch_size=batch_size, verbose=1, shuffle=True)\n",
    "\n",
    "# model.load_weights('images/weights/exp9.hdf5', by_name=True)\n",
    "model.save_weights('images/weights/exp9.hdf5')"
   ]
  },
  {
   "cell_type": "code",
   "execution_count": 48,
   "metadata": {},
   "outputs": [],
   "source": [
    "history_plot_multi_historyAsSecondInput(history,'images/history_exp3.png','images/test1_exp9.png','images/test1_heatmap_exp9.png',scoreflag=True,look_ahead = 1400,start = 0,test_case=1)\n",
    "history_plot_multi_historyAsSecondInput(history,'images/history_exp3.png','images/test2_exp9.png','images/test2_heatmap_exp9.png',scoreflag=False,look_ahead = 1400,start = 0,test_case=2)\n",
    "history_plot_multi_historyAsSecondInput(history,'images/history_exp3.png','images/test3_exp9.png','images/test3_heatmap_exp9.png',scoreflag=False,look_ahead = 1400,start = 0,test_case=3)"
   ]
  },
  {
   "cell_type": "markdown",
   "metadata": {},
   "source": [
    "### Experiment10: input: multivariate speed; output: multivariate delta speed; lookback = 15"
   ]
  },
  {
   "cell_type": "code",
   "execution_count": 49,
   "metadata": {},
   "outputs": [
    {
     "name": "stdout",
     "output_type": "stream",
     "text": [
      "train_speed0.shape =  (48, 1440, 15)\n",
      "test_speed.shape =  (3, 1440, 15)\n"
     ]
    }
   ],
   "source": [
    "train_speed0,train_speed_y0,_,mean0,_ = get_certain_dayofweek(Speed,0,data_train)\n",
    "train_speed1,train_speed_y1,_,_,_ = get_certain_dayofweek(Speed,1,data_train)\n",
    "train_speed2,train_speed_y2,_,_,_ = get_certain_dayofweek(Speed,2,data_train)\n",
    "train_speed3,train_speed_y3,_,_,_ = get_certain_dayofweek(Speed,3,data_train)\n",
    "train_speed4,train_speed_y4,_,mean4,_ = get_certain_dayofweek(Speed,4,data_train)\n",
    "train_speed5,train_speed_y5,_,_,_ = get_certain_dayofweek(Speed,5,data_train)\n",
    "train_speed6,train_speed_y6,_,_,_ = get_certain_dayofweek(Speed,6,data_train)\n",
    "\n",
    "test_speed = Speed[data_test.index,:,:]\n",
    "test_speed_y0 = np.concatenate((test_speed[0:1]-mean4,test_speed[1:2]-mean0,test_speed[2:3]-mean4),axis=0)\n",
    "\n",
    "print('train_speed0.shape = ',train_speed0.shape)\n",
    "print('test_speed.shape = ',test_speed.shape)"
   ]
  },
  {
   "cell_type": "code",
   "execution_count": 50,
   "metadata": {},
   "outputs": [
    {
     "name": "stdout",
     "output_type": "stream",
     "text": [
      "look_back =  15\n",
      "look_back_days =  6\n",
      "mode =  multi\n",
      "train_speed_x.shape =  (343, 1425, 15, 15)\n",
      "train_speed_y.shape =  (343, 1425, 15)\n",
      "test_speed_x.shape =  (3, 1425, 15, 15)\n",
      "test_speed_y.shape =  (3, 1425, 15)\n"
     ]
    }
   ],
   "source": [
    "look_back = 15\n",
    "mode = 'multi'\n",
    "\n",
    "test_speed_x,test_speed_y = create_dataset(test_speed,test_speed_y0, look_back, mode)\n",
    "\n",
    "train_speed_x,train_speed_y = create_dataset(train_speed0,train_speed_y0, look_back, mode)\n",
    "train_speed_x10,train_speed_y0 = create_dataset(train_speed1,train_speed_y1, look_back,mode)\n",
    "train_speed_x = np.concatenate((train_speed_x,train_speed_x10),axis=0)\n",
    "train_speed_y = np.concatenate((train_speed_y,train_speed_y0),axis=0)\n",
    "train_speed_x10,train_speed_y0 = create_dataset(train_speed2,train_speed_y2, look_back,mode)\n",
    "train_speed_x = np.concatenate((train_speed_x,train_speed_x10),axis=0)\n",
    "train_speed_y = np.concatenate((train_speed_y,train_speed_y0),axis=0)\n",
    "train_speed_x10,train_speed_y0 = create_dataset(train_speed3,train_speed_y3, look_back,mode)\n",
    "train_speed_x = np.concatenate((train_speed_x,train_speed_x10),axis=0)\n",
    "train_speed_y = np.concatenate((train_speed_y,train_speed_y0),axis=0)\n",
    "train_speed_x10,train_speed_y0 = create_dataset(train_speed4,train_speed_y4, look_back,mode)\n",
    "train_speed_x = np.concatenate((train_speed_x,train_speed_x10),axis=0)\n",
    "train_speed_y = np.concatenate((train_speed_y,train_speed_y0),axis=0)\n",
    "train_speed_x10,train_speed_y0 = create_dataset(train_speed5,train_speed_y5, look_back,mode)\n",
    "train_speed_x = np.concatenate((train_speed_x,train_speed_x10),axis=0)\n",
    "train_speed_y = np.concatenate((train_speed_y,train_speed_y0),axis=0)\n",
    "train_speed_x10,train_speed_y0 = create_dataset(train_speed6,train_speed_y6, look_back,mode)\n",
    "train_speed_x = np.concatenate((train_speed_x,train_speed_x10),axis=0)\n",
    "train_speed_y = np.concatenate((train_speed_y,train_speed_y0),axis=0)\n",
    "\n",
    "print('look_back = ',look_back)\n",
    "print('look_back_days = ',look_back_days)\n",
    "print('mode = ',mode)\n",
    "print('train_speed_x.shape = ',train_speed_x.shape)\n",
    "print('train_speed_y.shape = ',train_speed_y.shape)\n",
    "print('test_speed_x.shape = ',test_speed_x.shape)\n",
    "print('test_speed_y.shape = ',test_speed_y.shape)\n",
    "\n",
    "mean0=mean0[look_back:,:]\n",
    "mean4=mean4[look_back:,:]"
   ]
  },
  {
   "cell_type": "code",
   "execution_count": 57,
   "metadata": {},
   "outputs": [],
   "source": [
    "# plt.plot(test_speed_y[0,:,:1]+mean4[:,:1])  #12-19-2016 Monday 6:30AM - 8:30AM\n",
    "# plt.pcolor(mean0[:,:].transpose(),cmap=my_cmap, vmin=20, vmax=70)  #12-19-2016 Monday 6:30AM - 8:30AM\n",
    "# plt.pcolor(test_speed_y[0,:,:].transpose()+mean4[:,:].transpose(),cmap=my_cmap, vmin=20, vmax=70)  #12-19-2016 Monday 6:30AM - 8:30AM"
   ]
  },
  {
   "cell_type": "code",
   "execution_count": 58,
   "metadata": {},
   "outputs": [
    {
     "name": "stderr",
     "output_type": "stream",
     "text": [
      "/Users/Shuo/anaconda2/envs/CarND/lib/python3.5/site-packages/keras/backend/tensorflow_backend.py:2289: UserWarning: Expected no kwargs, you passed 1\n",
      "kwargs passed to function are ignored with Tensorflow backend\n",
      "  warnings.warn('\\n'.join(msg))\n"
     ]
    },
    {
     "name": "stdout",
     "output_type": "stream",
     "text": [
      "Epoch 1/1\n",
      "488775/488775 [==============================] - 115s - loss: 9.7542   \n"
     ]
    }
   ],
   "source": [
    "batch_size = train_speed_x.shape[1]\n",
    "\n",
    "model = Sequential()\n",
    "model.add(LSTM(32, input_shape=(look_back, train_speed_x.shape[3]), stateful=False, return_sequences=True))\n",
    "# model.add(Dropout(0.3))\n",
    "model.add(LSTM(32, input_shape=(look_back, train_speed_x.shape[3]), stateful=False))\n",
    "# model.add(Dropout(0.3))\n",
    "model.add(Dense(train_speed_y.shape[2]))\n",
    "model.compile(loss='mean_squared_error', optimizer='adam')\n",
    "\n",
    "train_x = np.reshape(train_speed_x,(train_speed_x.shape[0]*train_speed_x.shape[1],train_speed_x.shape[2],train_speed_x.shape[3]))\n",
    "train_y = np.reshape(train_speed_y,(train_speed_y.shape[0]*train_speed_y.shape[1],train_speed_y.shape[2]))\n",
    "history = model.fit(train_x, train_y, epochs=epochs, batch_size=batch_size, verbose=1, shuffle=True)\n",
    "# model.load_weights('images/weights/exp10.hdf5', by_name=True)\n",
    "model.save_weights('images/weights/exp10.hdf5')"
   ]
  },
  {
   "cell_type": "code",
   "execution_count": 61,
   "metadata": {},
   "outputs": [],
   "source": [
    "history_plot_multi(history,'images/history_exp10.png','images/test1_exp10.png','images/test1_heatmap_exp10.png',a=mean4,b=mean4,scoreflag=True,look_ahead = 1400,start = 0,test_case=1)\n",
    "history_plot_multi(history,'images/history_exp10_delta.png','images/test1_exp10_delta.png','images/test1_heatmap_exp10_delta.png',b=mean4,scoreflag=False,look_ahead = 1400,start = 0,test_case=1)\n",
    "\n",
    "history_plot_multi(history,'images/history_exp10.png','images/test2_exp10.png','images/test2_heatmap_exp10.png',a=mean0,b=mean0,scoreflag=False,look_ahead = 1400,start = 0,test_case=2)\n",
    "history_plot_multi(history,'images/history_exp10_delta.png','images/test2_exp10_delta.png','images/test2_heatmap_exp10_delta.png',b=mean0,scoreflag=False,look_ahead = 1400,start = 0,test_case=2)\n",
    "\n",
    "history_plot_multi(history,'images/history_exp10.png','images/test3_exp10.png','images/test3_heatmap_exp10.png',a=mean4,b=mean4,scoreflag=False,look_ahead = 1400,start = 0,test_case=3)\n",
    "history_plot_multi(history,'images/history_exp10_delta.png','images/test3_exp10_delta.png','images/test3_heatmap_exp10_delta.png',b=mean4,scoreflag=False,look_ahead = 1400,start = 0,test_case=3)"
   ]
  },
  {
   "cell_type": "markdown",
   "metadata": {},
   "source": [
    "### Experiment12: input: multivariate speed; output: multivariate delta speed; lookback = 15; lookback weeks = 6 (parallel structure)"
   ]
  },
  {
   "cell_type": "code",
   "execution_count": 62,
   "metadata": {},
   "outputs": [
    {
     "name": "stdout",
     "output_type": "stream",
     "text": [
      "train_speed0.shape =  (49, 1440, 15)\n",
      "test_speed.shape =  (3, 1440, 15)\n"
     ]
    }
   ],
   "source": [
    "train_speed0,train_speed_y0,_,mean0,_ = get_certain_dayofweek(Speed,0)\n",
    "train_speed1,train_speed_y1,_,_,_ = get_certain_dayofweek(Speed,1)\n",
    "train_speed2,train_speed_y2,_,_,_ = get_certain_dayofweek(Speed,2)\n",
    "train_speed3,train_speed_y3,_,_,_ = get_certain_dayofweek(Speed,3)\n",
    "train_speed4,train_speed_y4,_,mean4,_ = get_certain_dayofweek(Speed,4)\n",
    "train_speed5,train_speed_y5,_,_,_ = get_certain_dayofweek(Speed,5)\n",
    "train_speed6,train_speed_y6,_,_,_ = get_certain_dayofweek(Speed,6)\n",
    "\n",
    "test_speed = Speed[data_test.index,:,:]\n",
    "test_speed_y0 = np.concatenate((test_speed[0:1]-mean4,test_speed[1:2]-mean0,test_speed[2:3]-mean4),axis=0)\n",
    "\n",
    "print('train_speed0.shape = ',train_speed0.shape)\n",
    "print('test_speed.shape = ',test_speed.shape)"
   ]
  },
  {
   "cell_type": "code",
   "execution_count": 63,
   "metadata": {},
   "outputs": [
    {
     "name": "stdout",
     "output_type": "stream",
     "text": [
      "index1=45  index2=45  index3=47 \n"
     ]
    }
   ],
   "source": [
    "index1=list(data.index[data['dayofweek'] == 4]).index(data_test.index[data_test['dayofweek'] == 4][0])\n",
    "index2=list(data.index[data['dayofweek'] == 0]).index(data_test.index[data_test['dayofweek'] == 0][0])\n",
    "index3=list(data.index[data['dayofweek'] == 4]).index(data_test.index[data_test['dayofweek'] == 4][1])\n",
    "print('index1={}  index2={}  index3={} '.format(index1,index2,index3))"
   ]
  },
  {
   "cell_type": "code",
   "execution_count": 64,
   "metadata": {},
   "outputs": [
    {
     "name": "stdout",
     "output_type": "stream",
     "text": [
      "look_back =  15\n",
      "look_back_days =  6\n",
      "mode =  multi\n",
      "train_speed_x1.shape =  (301, 1425, 15, 15)\n",
      "train_speed_x2.shape =  (301, 1425, 6, 15)\n",
      "train_speed_y.shape =  (301, 1425, 15)\n",
      "test_speed_x1.shape =  (3, 1425, 15, 15)\n",
      "test_speed_x2.shape =  (3, 1425, 6, 15)\n",
      "test_speed_y.shape =  (3, 1425, 15)\n"
     ]
    }
   ],
   "source": [
    "look_back = 15\n",
    "look_back_days = 6\n",
    "mode = 'multi'\n",
    "train_speed_x1,train_speed_x2,train_speed_y = create_dataset_historyAsSecondInput(train_speed0,train_speed_y0, look_back, look_back_days, mode)\n",
    "test_speed_x1_2 = train_speed_x1[index2-look_back_days:index1-look_back_days+1,:,:,:]\n",
    "test_speed_x2_2 = train_speed_x2[index2-look_back_days:index1-look_back_days+1,:,:,:]\n",
    "test_speed_y_2 = train_speed_y[index2-look_back_days:index1-look_back_days+1,:,:]\n",
    "train_speed_x1 = train_speed_x1[list(range(index2-look_back_days))+list(range(index2-look_back_days+1,len(train_speed_x1))),:,:,:]\n",
    "train_speed_x2 = train_speed_x2[list(range(index2-look_back_days))+list(range(index2-look_back_days+1,len(train_speed_x2))),:,:,:]\n",
    "train_speed_y = train_speed_y[list(range(index2-look_back_days))+list(range(index2-look_back_days+1,len(train_speed_y))),:,:]\n",
    "\n",
    "train_speed_x10,train_speed_x20,train_speed_y0 = create_dataset_historyAsSecondInput(train_speed1,train_speed_y1, look_back, look_back_days, mode)\n",
    "train_speed_x1 = np.concatenate((train_speed_x1,train_speed_x10),axis=0)\n",
    "train_speed_x2 = np.concatenate((train_speed_x2,train_speed_x20),axis=0)\n",
    "train_speed_y = np.concatenate((train_speed_y,train_speed_y0),axis=0)\n",
    "train_speed_x10,train_speed_x20,train_speed_y0 = create_dataset_historyAsSecondInput(train_speed2,train_speed_y2, look_back, look_back_days, mode)\n",
    "train_speed_x1 = np.concatenate((train_speed_x1,train_speed_x10),axis=0)\n",
    "train_speed_x2 = np.concatenate((train_speed_x2,train_speed_x20),axis=0)\n",
    "train_speed_y = np.concatenate((train_speed_y,train_speed_y0),axis=0)\n",
    "train_speed_x10,train_speed_x20,train_speed_y0 = create_dataset_historyAsSecondInput(train_speed3,train_speed_y3, look_back, look_back_days, mode)\n",
    "train_speed_x1 = np.concatenate((train_speed_x1,train_speed_x10),axis=0)\n",
    "train_speed_x2 = np.concatenate((train_speed_x2,train_speed_x20),axis=0)\n",
    "train_speed_y = np.concatenate((train_speed_y,train_speed_y0),axis=0)\n",
    "\n",
    "train_speed_x10,train_speed_x20,train_speed_y0 = create_dataset_historyAsSecondInput(train_speed4,train_speed_y4, look_back, look_back_days, mode)\n",
    "test_speed_x1_13 = train_speed_x10[[index1-look_back_days,index3-look_back_days],:,:,:]\n",
    "test_speed_x2_13 = train_speed_x20[[index1-look_back_days,index3-look_back_days],:,:,:]\n",
    "test_speed_y_13 = train_speed_y0[[index1-look_back_days,index3-look_back_days],:,:]\n",
    "train_speed_x10 = train_speed_x10[list(range(index1-look_back_days))+list(range(index1-look_back_days+1,index3-look_back_days))+list(range(index3-look_back_days+1,len(train_speed_x10))),:,:,:]\n",
    "train_speed_x20 = train_speed_x20[list(range(index1-look_back_days))+list(range(index1-look_back_days+1,index3-look_back_days))+list(range(index3-look_back_days+1,len(train_speed_x20))),:,:,:]\n",
    "train_speed_y0 = train_speed_y0[list(range(index1-look_back_days))+list(range(index1-look_back_days+1,index3-look_back_days))+list(range(index3-look_back_days+1,len(train_speed_y0))),:,:]\n",
    "\n",
    "train_speed_x1 = np.concatenate((train_speed_x1,train_speed_x10),axis=0)\n",
    "train_speed_x2 = np.concatenate((train_speed_x2,train_speed_x20),axis=0)\n",
    "train_speed_y = np.concatenate((train_speed_y,train_speed_y0),axis=0)\n",
    "train_speed_x10,train_speed_x20,train_speed_y0 = create_dataset_historyAsSecondInput(train_speed5,train_speed_y5, look_back, look_back_days, mode)\n",
    "train_speed_x1 = np.concatenate((train_speed_x1,train_speed_x10),axis=0)\n",
    "train_speed_x2 = np.concatenate((train_speed_x2,train_speed_x20),axis=0)\n",
    "train_speed_y = np.concatenate((train_speed_y,train_speed_y0),axis=0)\n",
    "train_speed_x10,train_speed_x20,train_speed_y0 = create_dataset_historyAsSecondInput(train_speed6,train_speed_y6, look_back, look_back_days, mode)\n",
    "train_speed_x1 = np.concatenate((train_speed_x1,train_speed_x10),axis=0)\n",
    "train_speed_x2 = np.concatenate((train_speed_x2,train_speed_x20),axis=0)\n",
    "train_speed_y = np.concatenate((train_speed_y,train_speed_y0),axis=0)\n",
    "\n",
    "test_speed_x1 = np.concatenate((test_speed_x1_13[0:1],test_speed_x1_2,test_speed_x1_13[-1:]),axis=0)\n",
    "test_speed_x2 = np.concatenate((test_speed_x2_13[0:1],test_speed_x2_2,test_speed_x2_13[-1:]),axis=0)                                                                          \n",
    "test_speed_y = np.concatenate((test_speed_y_13[0:1],test_speed_y_2,test_speed_y_13[-1:]),axis=0)  \n",
    "                                                                        \n",
    "print('look_back = ',look_back)\n",
    "print('look_back_days = ',look_back_days)\n",
    "print('mode = ',mode)\n",
    "print('train_speed_x1.shape = ',train_speed_x1.shape)\n",
    "print('train_speed_x2.shape = ',train_speed_x2.shape)\n",
    "print('train_speed_y.shape = ',train_speed_y.shape)\n",
    "print('test_speed_x1.shape = ',test_speed_x1.shape)\n",
    "print('test_speed_x2.shape = ',test_speed_x2.shape)\n",
    "print('test_speed_y.shape = ',test_speed_y.shape)\n",
    "\n",
    "mean0=mean0[look_back:,:]\n",
    "mean4=mean4[look_back:,:]"
   ]
  },
  {
   "cell_type": "code",
   "execution_count": 68,
   "metadata": {},
   "outputs": [
    {
     "data": {
      "text/plain": [
       "<matplotlib.collections.PolyCollection at 0x123f775f8>"
      ]
     },
     "execution_count": 68,
     "metadata": {},
     "output_type": "execute_result"
    },
    {
     "data": {
      "image/png": "[encoded data removed]",
      "text/plain": [
       "<matplotlib.figure.Figure at 0x123f77080>"
      ]
     },
     "metadata": {},
     "output_type": "display_data"
    }
   ],
   "source": [
    "# plt.plot(test_speed_y[0,:,:1]+mean4[:,:1])  #12-19-2016 Monday 6:30AM - 8:30AM\n",
    "# plt.pcolor(mean0[:,:].transpose(),cmap=my_cmap, vmin=20, vmax=70)  #12-19-2016 Monday 6:30AM - 8:30AM\n",
    "# plt.pcolor(test_speed_y[0,:,:].transpose()+mean4[:,:].transpose(),cmap=my_cmap, vmin=20, vmax=70)  #12-19-2016 Monday 6:30AM - 8:30AM"
   ]
  },
  {
   "cell_type": "code",
   "execution_count": 69,
   "metadata": {},
   "outputs": [
    {
     "name": "stderr",
     "output_type": "stream",
     "text": [
      "/Users/Shuo/anaconda2/envs/CarND/lib/python3.5/site-packages/keras/backend/tensorflow_backend.py:2289: UserWarning: Expected no kwargs, you passed 1\n",
      "kwargs passed to function are ignored with Tensorflow backend\n",
      "  warnings.warn('\\n'.join(msg))\n"
     ]
    },
    {
     "name": "stdout",
     "output_type": "stream",
     "text": [
      "Epoch 1/1\n",
      "428925/428925 [==============================] - 64s - loss: 9.5245    \n"
     ]
    }
   ],
   "source": [
    "\n",
    "batch_size = train_speed_x.shape[1]\n",
    "\n",
    "todaySequence = Input(shape=(look_back, train_speed_x1.shape[3]),name='todaySequence')\n",
    "h1=LSTM(32, input_shape=(look_back, train_speed_x1.shape[3]), stateful=False, return_sequences=True)(todaySequence)\n",
    "\n",
    "h1=LSTM(32, input_shape=(look_back, train_speed_x1.shape[3]), stateful=False,name='h1')(todaySequence)\n",
    "\n",
    "historySequence = Input(shape=(look_back_days, train_speed_x2.shape[3]),name='historySequence')\n",
    "h2=LSTM(32, input_shape=(look_back, train_speed_x2.shape[3]), stateful=False, return_sequences=True)(historySequence)\n",
    "h2=LSTM(32, input_shape=(look_back, train_speed_x2.shape[3]), stateful=False,name='h2')(h2)\n",
    "\n",
    "h3 = keras.layers.concatenate([h1, h2],name='h3')\n",
    "# h3 = keras.layers.concatenate([h1, h2],name='h3')\n",
    "\n",
    "predictedSpeed = Dense(train_speed_y.shape[2],name='predictedSpeed')(h3)\n",
    "\n",
    "model = Model(inputs=[todaySequence, historySequence], outputs=[predictedSpeed])\n",
    "\n",
    "model.compile(loss='mean_squared_error', optimizer='adam')\n",
    "\n",
    "# model.compile(optimizer='rmsprop',\n",
    "#               loss={'main_output': 'binary_crossentropy', 'aux_output': 'binary_crossentropy'},\n",
    "#               loss_weights={'main_output': 1., 'aux_output': 0.2})\n",
    "\n",
    "train_x1 = np.reshape(train_speed_x1,(train_speed_x1.shape[0]*train_speed_x1.shape[1],train_speed_x1.shape[2],train_speed_x1.shape[3]))\n",
    "train_x2 = np.reshape(train_speed_x2,(train_speed_x2.shape[0]*train_speed_x2.shape[1],train_speed_x2.shape[2],train_speed_x2.shape[3]))\n",
    "train_y = np.reshape(train_speed_y,(train_speed_y.shape[0]*train_speed_y.shape[1],train_speed_y.shape[2]))\n",
    "\n",
    "history = model.fit({'todaySequence': train_x1, 'historySequence': train_x2},\n",
    "          {'predictedSpeed': train_y},\n",
    "          epochs=epochs, batch_size=batch_size, verbose=1, shuffle=True)\n",
    "\n",
    "# model.load_weights('images/weights/exp12.hdf5', by_name=True)\n",
    "model.save_weights('images/weights/exp12.hdf5')"
   ]
  },
  {
   "cell_type": "code",
   "execution_count": null,
   "metadata": {},
   "outputs": [],
   "source": [
    "history_plot_multi_historyAsSecondInput(history,'images/history_exp12.png','images/test1_exp12.png','images/test1_heatmap_exp12.png',a=mean4,b=mean4,scoreflag=True,look_ahead = 1400,start = 0,test_case=1)\n",
    "history_plot_multi_historyAsSecondInput(history,'images/history_exp12_delta.png','images/test1_exp12_delta.png','images/test1_heatmap_exp12_delta.png',b=mean4,scoreflag=False,look_ahead = 1400,start = 0,test_case=1)\n",
    "\n",
    "history_plot_multi_historyAsSecondInput(history,'images/history_exp12.png','images/test2_exp12.png','images/test2_heatmap_exp12.png',a=mean0,b=mean0,scoreflag=False,look_ahead = 1400,start = 0,test_case=2)\n",
    "history_plot_multi_historyAsSecondInput(history,'images/history_exp12_delta.png','images/test2_exp12_delta.png','images/test2_heatmap_exp12_delta.png',b=mean0,scoreflag=False,look_ahead = 1400,start = 0,test_case=2)\n",
    "\n",
    "history_plot_multi_historyAsSecondInput(history,'images/history_exp12.png','images/test3_exp12.png','images/test3_heatmap_exp12.png',a=mean4,b=mean4,scoreflag=False,look_ahead = 1400,start = 0,test_case=3)\n",
    "history_plot_multi_historyAsSecondInput(history,'images/history_exp12_delta.png','images/test3_exp12_delta.png','images/test3_heatmap_exp12_delta.png',b=mean4,scoreflag=False,look_ahead = 1400,start = 0,test_case=3)"
   ]
  },
  {
   "cell_type": "code",
   "execution_count": null,
   "metadata": {
    "collapsed": true
   },
   "outputs": [],
   "source": []
  },
  {
   "cell_type": "code",
   "execution_count": null,
   "metadata": {
    "collapsed": true
   },
   "outputs": [],
   "source": []
  }
 ],
 "metadata": {
  "anaconda-cloud": {},
  "kernelspec": {
   "display_name": "Python 3",
   "language": "python",
   "name": "python3"
  },
  "language_info": {
   "codemirror_mode": {
    "name": "ipython",
    "version": 3
   },
   "file_extension": ".py",
   "mimetype": "text/x-python",
   "name": "python",
   "nbconvert_exporter": "python",
   "pygments_lexer": "ipython3",
   "version": "3.5.3"
  }
 },
 "nbformat": 4,
 "nbformat_minor": 1
}
