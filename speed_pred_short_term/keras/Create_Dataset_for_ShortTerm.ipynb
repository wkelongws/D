{
 "cells": [
  {
   "cell_type": "code",
   "execution_count": 1,
   "metadata": {
    "collapsed": true
   },
   "outputs": [],
   "source": [
    "import pickle\n",
    "import numpy as np\n",
    "import pandas as pd\n",
    "import csv"
   ]
  },
  {
   "cell_type": "code",
   "execution_count": 2,
   "metadata": {
    "collapsed": true
   },
   "outputs": [],
   "source": [
    "def load_data(data,datafolder='/media/shuo/Shuo_NVIDIA/ISU/Speed_Pred_Stage2/data/Data_2016_DES_I235E/'):\n",
    "    X_train = np.zeros((len(data),15,288,10))\n",
    "    y_train = np.zeros((len(data),15,1440,3))\n",
    "    for i in range(len(data)):\n",
    "        with open(datafolder+'CSVs/'+data['X'][i], 'r') as f:\n",
    "            X = list(csv.reader(f, delimiter=\",\"))\n",
    "            X = np.asarray(X)\n",
    "            channels = np.unique(X[:,0])\n",
    "            for channel in channels:\n",
    "                index=X[:,0] == channel\n",
    "                X_train[i,:,:,int(channel)] = X[index,1:]\n",
    "        with open(datafolder+'Traffic_CSVs/'+data['y'][i], 'r') as f:\n",
    "            y = list(csv.reader(f, delimiter=\",\"))\n",
    "            y = np.asarray(y)\n",
    "            channels = np.unique(y[:,0])\n",
    "            for channel in channels:\n",
    "                index=y[:,0] == channel\n",
    "                y_train[i,:,:,int(channel)] = y[index,1:]\n",
    "#             index=y[:,0] == '0'\n",
    "#             y_train[i,:,:,0] = y[index,1:]\n",
    "    return X_train,y_train"
   ]
  },
  {
   "cell_type": "code",
   "execution_count": 3,
   "metadata": {
    "collapsed": true
   },
   "outputs": [],
   "source": [
    "def convert_zero_2_mean(y_train):\n",
    "    y_train[y_train==0] = np.nan\n",
    "    avg = np.nanmean(y_train, axis=0)\n",
    "    arrays = [avg for _ in range(y_train.shape[0])]\n",
    "    AVG = np.stack(arrays, axis=0)\n",
    "    index = np.isnan(y_train)\n",
    "    y_train[index] = AVG[index]\n",
    "    y_train[np.isnan(y_train)] = np.nanmean(y_train)\n",
    "    return y_train"
   ]
  },
  {
   "cell_type": "code",
   "execution_count": 4,
   "metadata": {},
   "outputs": [
    {
     "name": "stderr",
     "output_type": "stream",
     "text": [
      "/home/shuo/anaconda2/envs/tf/lib/python3.5/site-packages/ipykernel/__main__.py:3: RuntimeWarning: Mean of empty slice\n",
      "  app.launch_new_instance()\n"
     ]
    },
    {
     "name": "stdout",
     "output_type": "stream",
     "text": [
      "(346, 1440, 15, 3)\n",
      "(346, 1440, 15)\n",
      "(346, 1440, 15)\n",
      "0\n",
      "0\n"
     ]
    }
   ],
   "source": [
    "data = pd.read_csv('/media/shuo/Shuo_NVIDIA/ISU/Speed_Pred_Stage2/data/data_2016_I235E.csv',delimiter=',')\n",
    "_,Traffic = load_data(data)\n",
    "Traffic = np.swapaxes(Traffic,1,2)\n",
    "Raw_Speed = Traffic[:,:,:,0]\n",
    "Speed = convert_zero_2_mean(Raw_Speed)\n",
    "Speed = np.reshape(Speed, (Speed.shape[0],Speed.shape[1], Speed.shape[2]))\n",
    "\n",
    "print(Traffic.shape)\n",
    "print(Raw_Speed.shape)\n",
    "print(Speed.shape)\n",
    "\n",
    "# print(Speed[16,:5,:])\n",
    "# plt.pcolor(Speed[16,:,:],cmap=my_cmap)\n",
    "print(np.count_nonzero(Speed==0))\n",
    "print(np.count_nonzero(np.isnan(Speed)))\n",
    "\n",
    "data['y'][0][:4]\n",
    "data['day'] = data['y'].map(lambda x: x[:8])\n",
    "data['date'] = pd.to_datetime(data['day'],format='%Y%m%d')\n",
    "data['dayofweek'] = data['date'].map(lambda x: x.dayofweek)\n",
    "data['dayofyear'] = data['date'].map(lambda x: x.dayofyear)\n",
    "# del data['day']\n",
    "\n",
    "pickle.dump( (Traffic,Speed,data), open( \"data.p\", \"wb\" ) )"
   ]
  },
  {
   "cell_type": "code",
   "execution_count": null,
   "metadata": {
    "collapsed": true
   },
   "outputs": [],
   "source": []
  }
 ],
 "metadata": {
  "kernelspec": {
   "display_name": "Python 3",
   "language": "python",
   "name": "python3"
  },
  "language_info": {
   "codemirror_mode": {
    "name": "ipython",
    "version": 3
   },
   "file_extension": ".py",
   "mimetype": "text/x-python",
   "name": "python",
   "nbconvert_exporter": "python",
   "pygments_lexer": "ipython3",
   "version": "3.5.3"
  }
 },
 "nbformat": 4,
 "nbformat_minor": 2
}
