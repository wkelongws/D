{
 "cells": [
  {
   "cell_type": "code",
   "execution_count": 66,
   "metadata": {
    "collapsed": true
   },
   "outputs": [],
   "source": [
    "import pickle\n",
    "import numpy as np\n",
    "import pandas as pd\n",
    "import csv\n",
    "import os\n",
    "\n",
    "which_data = 'Data_2015_DES_I235E'"
   ]
  },
  {
   "cell_type": "code",
   "execution_count": 67,
   "metadata": {
    "collapsed": true
   },
   "outputs": [],
   "source": [
    "def load_data(data,datafolder='../data/'+which_data+'/'):\n",
    "    X_train = np.zeros((len(data),15,288,10))\n",
    "    y_train = np.zeros((len(data),15,1440,3))\n",
    "    for i in range(len(data)):\n",
    "        if os.path.exists(datafolder+'CSVs/'+data['X'][i]):\n",
    "            with open(datafolder+'CSVs/'+data['X'][i], 'r') as f:\n",
    "                X = list(csv.reader(f, delimiter=\",\"))\n",
    "                X = np.asarray(X)\n",
    "                channels = np.unique(X[:,0])\n",
    "                for channel in channels:\n",
    "                    index=X[:,0] == channel\n",
    "                    X_train[i,:,:,int(channel)] = X[index,1:]\n",
    "        with open(datafolder+'Traffic_CSVs/'+data['y'][i], 'r') as f:\n",
    "            y = list(csv.reader(f, delimiter=\",\"))\n",
    "            y = np.asarray(y)\n",
    "            channels = np.unique(y[:,0])\n",
    "            for channel in channels:\n",
    "                index=y[:,0] == channel\n",
    "                y_train[i,:,:,int(channel)] = y[index,1:]\n",
    "#             index=y[:,0] == '0'\n",
    "#             y_train[i,:,:,0] = y[index,1:]\n",
    "    return X_train,y_train"
   ]
  },
  {
   "cell_type": "code",
   "execution_count": 68,
   "metadata": {},
   "outputs": [],
   "source": [
    "data = pd.read_csv('../data/'+which_data+'.csv',delimiter=',')\n",
    "Weather,Traffic = load_data(data)\n",
    "data['day'] = data['y'].map(lambda x: x[:8])\n",
    "data['date'] = pd.to_datetime(data['day'],format='%Y%m%d')\n",
    "data['dayofweek'] = data['date'].map(lambda x: x.dayofweek)\n",
    "data['weekofyear'] = data['date'].map(lambda x: x.weekofyear)\n",
    "data['month'] = data['date'].map(lambda x: x.month)\n",
    "data['dayofyear'] = data['date'].map(lambda x: x.dayofyear)\n",
    "pickle.dump( (Traffic,Weather,data), open( which_data+\".p\", \"wb\" ) )"
   ]
  },
  {
   "cell_type": "code",
   "execution_count": null,
   "metadata": {
    "collapsed": true
   },
   "outputs": [],
   "source": []
  }
 ],
 "metadata": {
  "kernelspec": {
   "display_name": "Python 3",
   "language": "python",
   "name": "python3"
  },
  "language_info": {
   "codemirror_mode": {
    "name": "ipython",
    "version": 3
   },
   "file_extension": ".py",
   "mimetype": "text/x-python",
   "name": "python",
   "nbconvert_exporter": "python",
   "pygments_lexer": "ipython3",
   "version": "3.5.4"
  }
 },
 "nbformat": 4,
 "nbformat_minor": 2
}
